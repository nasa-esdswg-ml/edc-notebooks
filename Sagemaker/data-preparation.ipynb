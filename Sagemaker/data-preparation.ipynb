{
 "cells": [
  {
   "cell_type": "code",
   "execution_count": null,
   "metadata": {},
   "outputs": [],
   "source": [
    "from urllib import request, parse\n",
    "from http.cookiejar import CookieJar\n",
    "import numpy\n",
    "import getpass\n",
    "import netrc\n",
    "import requests\n",
    "import json\n",
    "import boto3\n",
    "import os\n",
    "import boto3\n",
    "import matplotlib.pyplot as plt\n",
    "import io\n",
    "from urllib.parse import urlparse\n",
    "import sys  \n",
    "!{sys.executable} -m pip install --user jsonlines\n",
    "import jsonlines\n",
    "from PIL import Image\n"
   ]
  },
  {
   "cell_type": "code",
   "execution_count": null,
   "metadata": {},
   "outputs": [],
   "source": [
    "def setup_earthdata_login_auth(endpoint):\n",
    "    \"\"\"\n",
    "    Set up the request library so that it authenticates against the given Earthdata Login\n",
    "    endpoint and is able to track cookies between requests.  This looks in the .netrc file \n",
    "    first and if no credentials are found, it prompts for them.\n",
    "\n",
    "    Valid endpoints include:\n",
    "        uat.urs.earthdata.nasa.gov - Earthdata Login UAT\n",
    "        urs.earthdata.nasa.gov - Earthdata Login production\n",
    "    \"\"\"\n",
    "    try:\n",
    "        username, _, password = netrc.netrc().authenticators(endpoint)\n",
    "    except (FileNotFoundError, TypeError):\n",
    "        # FileNotFound = There's no .netrc file\n",
    "        # TypeError = The endpoint isn't in the netrc file, causing the above to try unpacking None\n",
    "        print('Please provide your Earthdata Login credentials to allow data access')\n",
    "        print('Your credentials will only be passed to %s and will not be exposed in Jupyter' % (endpoint))\n",
    "        username = input('Username:')\n",
    "        password = getpass.getpass()\n",
    "\n",
    "    manager = request.HTTPPasswordMgrWithDefaultRealm()\n",
    "    manager.add_password(None, endpoint, username, password)\n",
    "    auth = request.HTTPBasicAuthHandler(manager)\n",
    "\n",
    "    jar = CookieJar()\n",
    "    processor = request.HTTPCookieProcessor(jar)\n",
    "    opener = request.build_opener(auth, processor)\n",
    "    request.install_opener(opener)"
   ]
  },
  {
   "cell_type": "code",
   "execution_count": null,
   "metadata": {},
   "outputs": [],
   "source": [
    "setup_earthdata_login_auth('urs.earthdata.nasa.gov')\n",
    "#response = requests.get(\"https://data.lpdaac.earthdatacloud.nasa.gov/s3credentials\")\n",
    "#creds = json.loads(response.content)"
   ]
  },
  {
   "cell_type": "code",
   "execution_count": null,
   "metadata": {},
   "outputs": [],
   "source": [
    "session = boto3.Session(profile_name='sandbox')\n",
    "client = session.client('s3')\n",
    "\n",
    "counter=0\n",
    "\n",
    "f = open(\"cloud_training.json\",'w')\n",
    "response = client.list_objects_v2(\n",
    "    Bucket='dug-cloud-training',\n",
    "    MaxKeys=200,\n",
    ")\n",
    "\n",
    "with jsonlines.Writer(f) as writer:\n",
    "    client\n",
    "    for key in response['Contents']:\n",
    "        s3_loc = key['Key']\n",
    "        if s3_loc.endswith('.jpg'):\n",
    "            print(s3_loc)\n",
    "            response = client.get_object(\n",
    "                Bucket='dug-cloud-training',\n",
    "                Key=s3_loc)\n",
    "            # Render image\n",
    "            file_stream = response['Body']\n",
    "            img = Image.open(file_stream)\n",
    "            imgplot = plt.imshow(img)\n",
    "            plt.show(imgplot)       \n",
    "            # Ask for classification           \n",
    "            while True:\n",
    "                try:\n",
    "                    if counter < 100:\n",
    "                        cloudy = int(input(\"Cloudy? [1:cloudy, 0:not cloudy]:\"))\n",
    "                        if cloudy < 0 or cloudy > 1:\n",
    "                            raise ValueError          \n",
    "                    data = {}\n",
    "                    data['source-ref'] = \"s3://dug-cloud-training/\" + s3_loc\n",
    "                    if counter < 100:\n",
    "                        data['class'] = str(cloudy)\n",
    "                    counter=counter+1\n",
    "                    writer.write(data)        \n",
    "                    break\n",
    "                except ValueError:\n",
    "                    print(\"Invalid input. The number must be in the range of 0-1.\")                  \n",
    "f.close()\n",
    "print('Done!')"
   ]
  },
  {
   "cell_type": "code",
   "execution_count": null,
   "metadata": {},
   "outputs": [],
   "source": []
  }
 ],
 "metadata": {
  "instance_type": "ml.t3.medium",
  "kernelspec": {
   "display_name": "Python 3.10.5 64-bit",
   "language": "python",
   "name": "python3"
  },
  "language_info": {
   "codemirror_mode": {
    "name": "ipython",
    "version": 3
   },
   "file_extension": ".py",
   "mimetype": "text/x-python",
   "name": "python",
   "nbconvert_exporter": "python",
   "pygments_lexer": "ipython3",
   "version": "3.10.5"
  },
  "vscode": {
   "interpreter": {
    "hash": "aee8b7b246df8f9039afb4144a1f6fd8d2ca17a180786b69acc140d282b71a49"
   }
  }
 },
 "nbformat": 4,
 "nbformat_minor": 4
}
