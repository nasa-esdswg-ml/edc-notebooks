{
 "cells": [
  {
   "attachments": {},
   "cell_type": "markdown",
   "metadata": {},
   "source": [
    "# Creating an augemented manifest file (AMF)\n",
    "An augmented manifest file is a set of data locations for your training and/or validation data. The format it uses is [jsonlines](https://jsonlines.org/)\n",
    "## Preparation\n",
    "We start by setting up an AWS S3 session and defining an S3 bucket or bucket alias to our training/validation data."
   ]
  },
  {
   "cell_type": "code",
   "execution_count": null,
   "metadata": {},
   "outputs": [],
   "source": [
    "from urllib import request, parse\n",
    "from http.cookiejar import CookieJar\n",
    "import numpy\n",
    "import getpass\n",
    "import netrc\n",
    "import requests\n",
    "import json\n",
    "import boto3\n",
    "import os\n",
    "import boto3\n",
    "import matplotlib.pyplot as plt\n",
    "import io\n",
    "from urllib.parse import urlparse\n",
    "import sys  \n",
    "!{sys.executable} -m pip install --user jsonlines\n",
    "import jsonlines\n",
    "from PIL import Image\n",
    "\n",
    "session = boto3.Session(profile_name='sandbox')\n",
    "client = session.client('s3')\n",
    "\n",
    "# bucket = 'dnewman2-pwm6dtmajjx83833e31rt99qeg1d4usw2a-s3alias'\n",
    "bucket = '<your S3 bucket here>'\n",
    "sourceRef='s3://' + bucket"
   ]
  },
  {
   "attachments": {},
   "cell_type": "markdown",
   "metadata": {
    "tags": []
   },
   "source": [
    "## File creation\n",
    "\n",
    "For this example, each line in the AMF references a single HLS image and a class describing whether that image is cloudy (1) or clear (0)\n",
    "\n",
    "For example,\n",
    "\n",
    "`{\"source-ref\": \"s3://lp-prod-public/HLSL30.020/HLS.L30.T01FBF.2021104T213801.v2.0/HLS.L30.T01FBF.2021104T213801.v2.0.jpg\", \"class\": \"1\"}`\n",
    "\n",
    "This method takes an empty file, an S3 bucket containing the training data and a JSON object representing a listing of objects within that bucket. This allows us to limit the number of objects that the AMF represents.\n",
    "For each key in the object, the method will render the image to the user and ask them if the image is cloudy or not. It will then record the response as a new row in the AMF."
   ]
  },
  {
   "cell_type": "code",
   "execution_count": null,
   "metadata": {},
   "outputs": [],
   "source": [
    "def createManifestFile(f, bucket, response):\n",
    "    with jsonlines.Writer(f) as writer:\n",
    "        client\n",
    "        for key in response['Contents']:\n",
    "            s3_loc = key['Key']\n",
    "            if s3_loc.endswith('.jpg'):\n",
    "                response = client.get_object(\n",
    "                    Bucket=bucket,\n",
    "                    Key=s3_loc)\n",
    "                # Render image\n",
    "                file_stream = response['Body']\n",
    "                img = Image.open(file_stream)\n",
    "                imgplot = plt.imshow(img)\n",
    "                plt.show(imgplot)       \n",
    "                # Ask for classification           \n",
    "                while True:\n",
    "                    try:\n",
    "                        cloudy = int(input(\"Cloudy? [1:cloudy, 0:not cloudy]:\"))\n",
    "                        if cloudy < 0 or cloudy > 1:\n",
    "                            raise ValueError          \n",
    "                        data = {}\n",
    "                        data['source-ref'] = 's3://' + bucket + '/' + s3_loc\n",
    "                        data['class'] = str(cloudy)\n",
    "                        writer.write(data)        \n",
    "                        break\n",
    "                    except ValueError:\n",
    "                        print(\"Invalid input. The number must be in the range of 0-1.\")  \n",
    "    f.close()"
   ]
  },
  {
   "attachments": {},
   "cell_type": "markdown",
   "metadata": {},
   "source": [
    "## Generate training augmented manifest file\n",
    "Get the first 100 objects in the bucket and generate our training dataset. We can use the continuation token to fetch the next set of images for our validation file."
   ]
  },
  {
   "cell_type": "code",
   "execution_count": null,
   "metadata": {},
   "outputs": [],
   "source": [
    "response = client.list_objects_v2(\n",
    "    Bucket=bucket,\n",
    "    MaxKeys=100,\n",
    ")\n",
    "f = open(\"cloud_training.json\",'w')\n",
    "createManifestFile(f, bucket, response)\n",
    "token = response['NextContinuationToken']"
   ]
  },
  {
   "attachments": {},
   "cell_type": "markdown",
   "metadata": {},
   "source": [
    "## Write the file to our S3 bucket"
   ]
  },
  {
   "cell_type": "code",
   "execution_count": null,
   "metadata": {},
   "outputs": [],
   "source": [
    "\n",
    "with open(\"cloud_training.json\", \"rb\") as f:\n",
    "    client.put_object(\n",
    "        Bucket='dug-cloud-manifest',\n",
    "        Key='cloud_training.json',\n",
    "        Body=f\n",
    "    )\n",
    "    f.close()"
   ]
  },
  {
   "attachments": {},
   "cell_type": "markdown",
   "metadata": {},
   "source": [
    "## Generate validation augmented manifest file\n",
    "Get the next 100 objects in the bucket and generate our validation dataset"
   ]
  },
  {
   "cell_type": "code",
   "execution_count": null,
   "metadata": {},
   "outputs": [],
   "source": [
    "# Generate validation augmented manifest file\n",
    "response = client.list_objects_v2(\n",
    "    Bucket=bucket,\n",
    "    MaxKeys=100,\n",
    "    ContinuationToken=token\n",
    ")\n",
    "f = open(\"cloud_validation.json\",'w')\n",
    "createManifestFile(f, bucket, response)"
   ]
  },
  {
   "attachments": {},
   "cell_type": "markdown",
   "metadata": {},
   "source": [
    "## Write the file to our S3 bucket"
   ]
  },
  {
   "cell_type": "code",
   "execution_count": null,
   "metadata": {},
   "outputs": [],
   "source": [
    "with open(\"cloud_validation.json\", \"rb\") as f:\n",
    "    client.put_object(\n",
    "        Bucket='dug-cloud-manifest',\n",
    "        Key='cloud_validation.json',\n",
    "        Body=f\n",
    "    )\n",
    "    f.close()"
   ]
  },
  {
   "attachments": {},
   "cell_type": "markdown",
   "metadata": {},
   "source": [
    "We have now created an AMF for our training data, containing 100 images and an AMF for our validation data containing 100 images. We can use these Augmented Manifest Files to train our 'cloudy?' classification model."
   ]
  },
  {
   "cell_type": "code",
   "execution_count": null,
   "metadata": {},
   "outputs": [],
   "source": [
    "print('Done!')"
   ]
  }
 ],
 "metadata": {
  "instance_type": "ml.t3.medium",
  "kernelspec": {
   "display_name": "Python 3",
   "language": "python",
   "name": "python3"
  },
  "language_info": {
   "codemirror_mode": {
    "name": "ipython",
    "version": 3
   },
   "file_extension": ".py",
   "mimetype": "text/x-python",
   "name": "python",
   "nbconvert_exporter": "python",
   "pygments_lexer": "ipython3",
   "version": "3.10.5 (v3.10.5:f377153967, Jun  6 2022, 12:36:10) [Clang 13.0.0 (clang-1300.0.29.30)]"
  },
  "vscode": {
   "interpreter": {
    "hash": "aee8b7b246df8f9039afb4144a1f6fd8d2ca17a180786b69acc140d282b71a49"
   }
  }
 },
 "nbformat": 4,
 "nbformat_minor": 4
}
