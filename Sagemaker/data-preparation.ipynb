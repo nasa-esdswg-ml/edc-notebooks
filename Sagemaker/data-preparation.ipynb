{
 "cells": [
  {
   "cell_type": "code",
   "execution_count": null,
   "metadata": {},
   "outputs": [],
   "source": [
    "from urllib import request, parse\n",
    "from http.cookiejar import CookieJar\n",
    "import numpy\n",
    "import getpass\n",
    "import netrc\n",
    "import requests\n",
    "import json\n",
    "import boto3\n",
    "import os\n",
    "import boto3\n",
    "import matplotlib.pyplot as plt\n",
    "import io\n",
    "from urllib.parse import urlparse\n",
    "import sys  \n",
    "!{sys.executable} -m pip install --user jsonlines\n",
    "import jsonlines\n",
    "from PIL import Image\n",
    "\n",
    "session = boto3.Session(profile_name='sandbox')\n",
    "client = session.client('s3')\n",
    "\n",
    "bucket = 'dnewman2-pwm6dtmajjx83833e31rt99qeg1d4usw2a-s3alias'\n",
    "sourceRef='s3://' + bucket\n"
   ]
  },
  {
   "cell_type": "markdown",
   "metadata": {
    "tags": []
   },
   "source": [
    "# Creating an augemented manifest file (AMF)\n",
    "We use json lines format to produce our input data for training and validation.\n",
    "\n",
    "Each line references an image and a class describing whether it is cloudy (1) or clear (0)\n",
    "\n",
    "For example,\n",
    "\n",
    "`{\"source-ref\": \"s3://lp-prod-public/HLSL30.020/HLS.L30.T01FBF.2021104T213801.v2.0/HLS.L30.T01FBF.2021104T213801.v2.0.jpg\", \"class\": \"1\"}`\n",
    "\n",
    "We construct this file by rendering the image and asking the user whether the image is cloudy or not. Then we generate an entry in the AMF and move on to the next image from our list objects array"
   ]
  },
  {
   "cell_type": "code",
   "execution_count": null,
   "metadata": {},
   "outputs": [],
   "source": [
    "def createManifestFile(f, bucket, response):\n",
    "    with jsonlines.Writer(f) as writer:\n",
    "        client\n",
    "        for key in response['Contents']:\n",
    "            s3_loc = key['Key']\n",
    "            if s3_loc.endswith('.jpg'):\n",
    "                response = client.get_object(\n",
    "                    Bucket=bucket,\n",
    "                    Key=s3_loc)\n",
    "                # Render image\n",
    "                file_stream = response['Body']\n",
    "                img = Image.open(file_stream)\n",
    "                imgplot = plt.imshow(img)\n",
    "                plt.show(imgplot)       \n",
    "                # Ask for classification           \n",
    "                while True:\n",
    "                    try:\n",
    "                        cloudy = int(input(\"Cloudy? [1:cloudy, 0:not cloudy]:\"))\n",
    "                        if cloudy < 0 or cloudy > 1:\n",
    "                            raise ValueError          \n",
    "                        data = {}\n",
    "                        data['source-ref'] = 's3://' + bucket + '/' + s3_loc\n",
    "                        data['class'] = str(cloudy)\n",
    "                        writer.write(data)        \n",
    "                        break\n",
    "                    except ValueError:\n",
    "                        print(\"Invalid input. The number must be in the range of 0-1.\")  \n",
    "    f.close()"
   ]
  },
  {
   "cell_type": "markdown",
   "metadata": {},
   "source": [
    "# Generate training augmented manifest file\n",
    "Get the first 80 objects in the bucket and generate our training dataset"
   ]
  },
  {
   "cell_type": "code",
   "execution_count": null,
   "metadata": {},
   "outputs": [],
   "source": [
    "\n",
    "\n",
    "\n",
    "f = open(\"cloud_training.json\",'w')\n",
    "response = client.list_objects_v2(\n",
    "    Bucket=bucket,\n",
    "    MaxKeys=100,\n",
    ")\n",
    "\n",
    "createManifestFile(f, bucket, response)\n",
    "token = response['NextContinuationToken']"
   ]
  },
  {
   "cell_type": "markdown",
   "metadata": {},
   "source": [
    "# Write the file to our S3 bucket"
   ]
  },
  {
   "cell_type": "code",
   "execution_count": null,
   "metadata": {},
   "outputs": [],
   "source": [
    "\n",
    "with open(\"cloud_training.json\", \"rb\") as f:\n",
    "    client.put_object(\n",
    "        Bucket='dug-cloud-manifest',\n",
    "        Key='cloud_training.json',\n",
    "        Body=f\n",
    "    )\n",
    "    f.close()"
   ]
  },
  {
   "cell_type": "markdown",
   "metadata": {},
   "source": [
    "# Generate validation augmented manifest file\n",
    "Get the next 10 objects in the bucket and generate our validation dataset"
   ]
  },
  {
   "cell_type": "code",
   "execution_count": null,
   "metadata": {},
   "outputs": [],
   "source": [
    "# Generate validation augmented manifest file\n",
    "response = client.list_objects_v2(\n",
    "    Bucket=bucket,\n",
    "    MaxKeys=100,\n",
    "    ContinuationToken=token\n",
    ")\n",
    "f = open(\"cloud_validation.json\",'w')\n",
    "createManifestFile(f, bucket, response)"
   ]
  },
  {
   "cell_type": "markdown",
   "metadata": {},
   "source": [
    "Write the file to our S3 bucket"
   ]
  },
  {
   "cell_type": "code",
   "execution_count": null,
   "metadata": {},
   "outputs": [],
   "source": [
    "with open(\"cloud_validation.json\", \"rb\") as f:\n",
    "    client.put_object(\n",
    "        Bucket='dug-cloud-manifest',\n",
    "        Key='cloud_validation.json',\n",
    "        Body=f\n",
    "    )\n",
    "    f.close()"
   ]
  },
  {
   "cell_type": "code",
   "execution_count": null,
   "metadata": {},
   "outputs": [],
   "source": [
    "print('Done!')"
   ]
  },
  {
   "cell_type": "code",
   "execution_count": null,
   "metadata": {},
   "outputs": [],
   "source": []
  }
 ],
 "metadata": {
  "instance_type": "ml.t3.medium",
  "kernelspec": {
   "display_name": "conda_amazonei_mxnet_p36",
   "language": "python",
   "name": "conda_amazonei_mxnet_p36"
  },
  "language_info": {
   "codemirror_mode": {
    "name": "ipython",
    "version": 3
   },
   "file_extension": ".py",
   "mimetype": "text/x-python",
   "name": "python",
   "nbconvert_exporter": "python",
   "pygments_lexer": "ipython3",
   "version": "3.6.13"
  },
  "vscode": {
   "interpreter": {
    "hash": "aee8b7b246df8f9039afb4144a1f6fd8d2ca17a180786b69acc140d282b71a49"
   }
  }
 },
 "nbformat": 4,
 "nbformat_minor": 4
}
