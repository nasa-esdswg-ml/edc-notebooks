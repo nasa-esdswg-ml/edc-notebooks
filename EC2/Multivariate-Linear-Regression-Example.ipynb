{
 "cells": [
  {
   "cell_type": "markdown",
   "id": "M4NCDIs6yUiH",
   "metadata": {
    "id": "M4NCDIs6yUiH"
   },
   "source": [
    "# Multivariate Linear Regression based Global Mean Sea Level Forecasting\n",
    "\n",
    "[Jianwu Wang @ UMBC](https://bdal.umbc.edu/people/jianwu/)\n",
    "\n",
    "Nov 2022\n",
    "\n",
    "This notebook demonstrates a machine learning based forecasting of Reconstructed Global Mean Sea Level data 1900-2018 (https://opendap.jpl.nasa.gov/opendap/allData/homage/L4/gmsl/global_timeseries_measures.nc). Additioinal information of the dataset can be found at https://podaac.jpl.nasa.gov/dataset/JPL_RECON_GMSL.\n",
    "\n",
    "The notebook is an extention of https://github.com/podaac/the-coding-club/blob/main/notebooks/Earthdata_webinar_20220727.ipynb which provides detailed information on how to process Global Mean Sea Level data at AWS cloud. "
   ]
  },
  {
   "cell_type": "markdown",
   "id": "X7PnyVX96E-X",
   "metadata": {
    "id": "X7PnyVX96E-X"
   },
   "source": [
    "Please try notebook https://github.com/podaac/the-coding-club/blob/main/notebooks/Earthdata_webinar_20220727.ipynb to get inital evnronment setup first. Below are steps to run the EC2 instance is stopped and started again.\n",
    "\n",
    "\n",
    "1.   Accessing your EC2 instance via ssh forwarding: \n",
    "```\n",
    "ssh -i \"~/.ssh/aws_ec2_jupyter.pem\" ec2-user@The_public_ip_address -L 9889:localhost:9889\n",
    "```\n",
    "2.   Activate jupyter environment via Conda\n",
    "```\n",
    "source ~/conda/bin/activate && \\\n",
    "conda activate jupyter && \\\n",
    "```\n",
    "3.   Start jupyter via command line\n",
    "```\n",
    "W=\"$(python3 -c 'from notebook.auth import passwd; import getpass; print(passwd(getpass.getpass(), algorithm=\"sha256\"))')\"\n",
    "jupyter lab --port=9889 --ip='127.0.0.1' --NotebookApp.token='' --NotebookApp.password=\"$PW\" --notebook-dir=\"$HOME\" --no-browser\n",
    "```\n",
    "4.  Access the server through your web browser: http://127.0.0.1:9889/ \n",
    "\n",
    "\n"
   ]
  },
  {
   "cell_type": "markdown",
   "id": "022d9e6b-1c7b-43c8-adce-7f9e17f6ad6b",
   "metadata": {
    "jp-MarkdownHeadingCollapsed": true,
    "tags": []
   },
   "source": [
    "## Data preparation"
   ]
  },
  {
   "cell_type": "code",
   "execution_count": 1,
   "id": "79852be5",
   "metadata": {
    "id": "79852be5"
   },
   "outputs": [],
   "source": [
    "#install via conda: conda sklearn pandas_profiling -y\n",
    "import xarray as xr\n",
    "import numpy as np\n",
    "import pandas as pd\n",
    "from sklearn import datasets, preprocessing\n",
    "from sklearn.model_selection import train_test_split\n",
    "#import pandas_profiling\n",
    "from matplotlib import pyplot as plt\n",
    "import sklearn.gaussian_process as gp\n",
    "from sklearn.metrics import r2_score\n",
    "from sklearn.preprocessing import MinMaxScaler, StandardScaler\n",
    "from sklearn.linear_model import LinearRegression\n",
    "#from sklearn.gaussian_process import GaussianProcessRegressor\n",
    "#from sklearn.gaussian_process.kernels import RBF, ConstantKernel as C\n"
   ]
  },
  {
   "cell_type": "code",
   "execution_count": 3,
   "id": "85XUvmG401u9",
   "metadata": {
    "colab": {
     "base_uri": "https://localhost:8080/",
     "height": 567
    },
    "executionInfo": {
     "elapsed": 148,
     "status": "error",
     "timestamp": 1663709994260,
     "user": {
      "displayName": "Jianwu Wang",
      "userId": "11198445539736279830"
     },
     "user_tz": 240
    },
    "id": "85XUvmG401u9",
    "outputId": "bbd72fe6-2d1b-4f64-f1d7-121371c67af7"
   },
   "outputs": [
    {
     "name": "stdout",
     "output_type": "stream",
     "text": [
      "<xarray.Dataset>\n",
      "Dimensions:                                             (time: 119)\n",
      "Coordinates:\n",
      "  * time                                                (time) datetime64[ns] ...\n",
      "Data variables: (12/21)\n",
      "    global_average_sea_level_change                     (time) float32 ...\n",
      "    global_average_sea_level_change_upper               (time) float32 ...\n",
      "    global_average_sea_level_change_lower               (time) float32 ...\n",
      "    glac_mean                                           (time) float32 ...\n",
      "    glac_upper                                          (time) float32 ...\n",
      "    glac_lower                                          (time) float32 ...\n",
      "    ...                                                  ...\n",
      "    global_average_thermosteric_sea_level_change        (time) float32 ...\n",
      "    global_average_thermosteric_sea_level_change_upper  (time) float32 ...\n",
      "    global_average_thermosteric_sea_level_change_lower  (time) float32 ...\n",
      "    sum_of_contrib_processes_mean                       (time) float32 ...\n",
      "    sum_of_contrib_processes_upper                      (time) float32 ...\n",
      "    sum_of_contrib_processes_lower                      (time) float32 ...\n",
      "Attributes: (12/42)\n",
      "    title:                     Global sea-level changes and contributing proc...\n",
      "    summary:                   This file contains reconstructed global-mean s...\n",
      "    id:                        10.5067/GMSLT-FJPL1\n",
      "    naming_authority:          gov.nasa.jpl\n",
      "    source:                    Frederikse et al. The causes of sea-level rise...\n",
      "    project:                   NASA sea-level change science team (N-SLCT)\n",
      "    ...                        ...\n",
      "    time_coverage_start:       1900-01-01\n",
      "    time_coverage_end:         2018-12-31\n",
      "    time_coverage_duration:    P119Y\n",
      "    time_coverage_resolution:  P1Y\n",
      "    date_created:              2020-07-28\n",
      "    date_modified:             2020-09-14\n"
     ]
    }
   ],
   "source": [
    "d1=xr.open_dataset('https://opendap.jpl.nasa.gov/opendap/allData/homage/L4/gmsl/global_timeseries_measures.nc')\n",
    "print(d1)"
   ]
  },
  {
   "cell_type": "code",
   "execution_count": 13,
   "id": "5ddb39de-bd61-4d6e-867d-ff79fdf80065",
   "metadata": {},
   "outputs": [
    {
     "data": {
      "text/html": [
       "<div>\n",
       "<style scoped>\n",
       "    .dataframe tbody tr th:only-of-type {\n",
       "        vertical-align: middle;\n",
       "    }\n",
       "\n",
       "    .dataframe tbody tr th {\n",
       "        vertical-align: top;\n",
       "    }\n",
       "\n",
       "    .dataframe thead th {\n",
       "        text-align: right;\n",
       "    }\n",
       "</style>\n",
       "<table border=\"1\" class=\"dataframe\">\n",
       "  <thead>\n",
       "    <tr style=\"text-align: right;\">\n",
       "      <th></th>\n",
       "      <th>global_average_sea_level_change</th>\n",
       "      <th>global_average_sea_level_change_upper</th>\n",
       "      <th>global_average_sea_level_change_lower</th>\n",
       "      <th>glac_mean</th>\n",
       "      <th>glac_upper</th>\n",
       "      <th>glac_lower</th>\n",
       "      <th>GrIS_mean</th>\n",
       "      <th>GrIS_upper</th>\n",
       "      <th>GrIS_lower</th>\n",
       "      <th>AIS_mean</th>\n",
       "      <th>...</th>\n",
       "      <th>AIS_lower</th>\n",
       "      <th>tws_mean</th>\n",
       "      <th>tws_upper</th>\n",
       "      <th>tws_lower</th>\n",
       "      <th>global_average_thermosteric_sea_level_change</th>\n",
       "      <th>global_average_thermosteric_sea_level_change_upper</th>\n",
       "      <th>global_average_thermosteric_sea_level_change_lower</th>\n",
       "      <th>sum_of_contrib_processes_mean</th>\n",
       "      <th>sum_of_contrib_processes_upper</th>\n",
       "      <th>sum_of_contrib_processes_lower</th>\n",
       "    </tr>\n",
       "    <tr>\n",
       "      <th>time</th>\n",
       "      <th></th>\n",
       "      <th></th>\n",
       "      <th></th>\n",
       "      <th></th>\n",
       "      <th></th>\n",
       "      <th></th>\n",
       "      <th></th>\n",
       "      <th></th>\n",
       "      <th></th>\n",
       "      <th></th>\n",
       "      <th></th>\n",
       "      <th></th>\n",
       "      <th></th>\n",
       "      <th></th>\n",
       "      <th></th>\n",
       "      <th></th>\n",
       "      <th></th>\n",
       "      <th></th>\n",
       "      <th></th>\n",
       "      <th></th>\n",
       "      <th></th>\n",
       "    </tr>\n",
       "  </thead>\n",
       "  <tbody>\n",
       "    <tr>\n",
       "      <th>1900-06-15</th>\n",
       "      <td>-173.261398</td>\n",
       "      <td>-141.002808</td>\n",
       "      <td>-203.557297</td>\n",
       "      <td>-79.553703</td>\n",
       "      <td>-62.500000</td>\n",
       "      <td>-95.500000</td>\n",
       "      <td>-48.064430</td>\n",
       "      <td>-37.400002</td>\n",
       "      <td>-58.799999</td>\n",
       "      <td>-9.494853</td>\n",
       "      <td>...</td>\n",
       "      <td>-16.15</td>\n",
       "      <td>12.326830</td>\n",
       "      <td>21.799999</td>\n",
       "      <td>2.80</td>\n",
       "      <td>-48.279350</td>\n",
       "      <td>-37.552921</td>\n",
       "      <td>-58.666309</td>\n",
       "      <td>-173.090805</td>\n",
       "      <td>-146.755402</td>\n",
       "      <td>-199.227905</td>\n",
       "    </tr>\n",
       "    <tr>\n",
       "      <th>1901-06-15</th>\n",
       "      <td>-168.801697</td>\n",
       "      <td>-135.897598</td>\n",
       "      <td>-201.018494</td>\n",
       "      <td>-78.703812</td>\n",
       "      <td>-61.799999</td>\n",
       "      <td>-94.599998</td>\n",
       "      <td>-48.179390</td>\n",
       "      <td>-37.599998</td>\n",
       "      <td>-58.950001</td>\n",
       "      <td>-9.440325</td>\n",
       "      <td>...</td>\n",
       "      <td>-16.00</td>\n",
       "      <td>15.246700</td>\n",
       "      <td>24.700001</td>\n",
       "      <td>5.75</td>\n",
       "      <td>-49.144901</td>\n",
       "      <td>-38.849602</td>\n",
       "      <td>-58.755150</td>\n",
       "      <td>-170.245499</td>\n",
       "      <td>-144.462402</td>\n",
       "      <td>-195.460800</td>\n",
       "    </tr>\n",
       "    <tr>\n",
       "      <th>1902-06-15</th>\n",
       "      <td>-180.389999</td>\n",
       "      <td>-148.213806</td>\n",
       "      <td>-212.074097</td>\n",
       "      <td>-77.843643</td>\n",
       "      <td>-61.200001</td>\n",
       "      <td>-93.500000</td>\n",
       "      <td>-47.861698</td>\n",
       "      <td>-37.450001</td>\n",
       "      <td>-58.650002</td>\n",
       "      <td>-9.385606</td>\n",
       "      <td>...</td>\n",
       "      <td>-15.90</td>\n",
       "      <td>16.570810</td>\n",
       "      <td>26.100000</td>\n",
       "      <td>7.15</td>\n",
       "      <td>-49.877560</td>\n",
       "      <td>-39.888828</td>\n",
       "      <td>-59.155022</td>\n",
       "      <td>-168.421799</td>\n",
       "      <td>-142.791702</td>\n",
       "      <td>-193.369797</td>\n",
       "    </tr>\n",
       "    <tr>\n",
       "      <th>1903-06-15</th>\n",
       "      <td>-170.267807</td>\n",
       "      <td>-138.930496</td>\n",
       "      <td>-202.697601</td>\n",
       "      <td>-77.272087</td>\n",
       "      <td>-60.549999</td>\n",
       "      <td>-92.849998</td>\n",
       "      <td>-47.453548</td>\n",
       "      <td>-36.950001</td>\n",
       "      <td>-58.200001</td>\n",
       "      <td>-9.331830</td>\n",
       "      <td>...</td>\n",
       "      <td>-15.80</td>\n",
       "      <td>16.624290</td>\n",
       "      <td>26.100000</td>\n",
       "      <td>7.15</td>\n",
       "      <td>-51.100590</td>\n",
       "      <td>-40.815861</td>\n",
       "      <td>-60.985008</td>\n",
       "      <td>-168.557602</td>\n",
       "      <td>-143.225800</td>\n",
       "      <td>-193.189896</td>\n",
       "    </tr>\n",
       "    <tr>\n",
       "      <th>1904-06-15</th>\n",
       "      <td>-168.720093</td>\n",
       "      <td>-137.450104</td>\n",
       "      <td>-200.167007</td>\n",
       "      <td>-76.430740</td>\n",
       "      <td>-59.799999</td>\n",
       "      <td>-91.800003</td>\n",
       "      <td>-46.626560</td>\n",
       "      <td>-37.400002</td>\n",
       "      <td>-56.200001</td>\n",
       "      <td>-9.277636</td>\n",
       "      <td>...</td>\n",
       "      <td>-15.65</td>\n",
       "      <td>16.227051</td>\n",
       "      <td>25.700001</td>\n",
       "      <td>6.70</td>\n",
       "      <td>-52.240181</td>\n",
       "      <td>-41.379250</td>\n",
       "      <td>-62.585709</td>\n",
       "      <td>-168.372406</td>\n",
       "      <td>-142.754593</td>\n",
       "      <td>-193.112198</td>\n",
       "    </tr>\n",
       "    <tr>\n",
       "      <th>...</th>\n",
       "      <td>...</td>\n",
       "      <td>...</td>\n",
       "      <td>...</td>\n",
       "      <td>...</td>\n",
       "      <td>...</td>\n",
       "      <td>...</td>\n",
       "      <td>...</td>\n",
       "      <td>...</td>\n",
       "      <td>...</td>\n",
       "      <td>...</td>\n",
       "      <td>...</td>\n",
       "      <td>...</td>\n",
       "      <td>...</td>\n",
       "      <td>...</td>\n",
       "      <td>...</td>\n",
       "      <td>...</td>\n",
       "      <td>...</td>\n",
       "      <td>...</td>\n",
       "      <td>...</td>\n",
       "      <td>...</td>\n",
       "      <td>...</td>\n",
       "    </tr>\n",
       "    <tr>\n",
       "      <th>2014-06-15</th>\n",
       "      <td>11.868940</td>\n",
       "      <td>20.258060</td>\n",
       "      <td>3.502924</td>\n",
       "      <td>2.607803</td>\n",
       "      <td>2.800000</td>\n",
       "      <td>2.450000</td>\n",
       "      <td>3.849548</td>\n",
       "      <td>4.050000</td>\n",
       "      <td>3.700000</td>\n",
       "      <td>1.770051</td>\n",
       "      <td>...</td>\n",
       "      <td>1.40</td>\n",
       "      <td>-0.759097</td>\n",
       "      <td>-0.050000</td>\n",
       "      <td>-1.60</td>\n",
       "      <td>4.670032</td>\n",
       "      <td>5.028707</td>\n",
       "      <td>4.308544</td>\n",
       "      <td>12.164770</td>\n",
       "      <td>13.248380</td>\n",
       "      <td>10.868380</td>\n",
       "    </tr>\n",
       "    <tr>\n",
       "      <th>2015-06-15</th>\n",
       "      <td>17.869520</td>\n",
       "      <td>26.591749</td>\n",
       "      <td>9.216259</td>\n",
       "      <td>3.392661</td>\n",
       "      <td>3.650000</td>\n",
       "      <td>3.200000</td>\n",
       "      <td>4.429987</td>\n",
       "      <td>4.700000</td>\n",
       "      <td>4.200000</td>\n",
       "      <td>2.701558</td>\n",
       "      <td>...</td>\n",
       "      <td>2.20</td>\n",
       "      <td>3.344095</td>\n",
       "      <td>4.250000</td>\n",
       "      <td>2.30</td>\n",
       "      <td>6.744699</td>\n",
       "      <td>7.239516</td>\n",
       "      <td>5.933526</td>\n",
       "      <td>20.688690</td>\n",
       "      <td>22.158630</td>\n",
       "      <td>18.938299</td>\n",
       "    </tr>\n",
       "    <tr>\n",
       "      <th>2016-06-15</th>\n",
       "      <td>23.941860</td>\n",
       "      <td>32.672989</td>\n",
       "      <td>15.510550</td>\n",
       "      <td>4.098025</td>\n",
       "      <td>4.350000</td>\n",
       "      <td>3.850000</td>\n",
       "      <td>5.181757</td>\n",
       "      <td>5.500000</td>\n",
       "      <td>4.950000</td>\n",
       "      <td>2.511931</td>\n",
       "      <td>...</td>\n",
       "      <td>1.90</td>\n",
       "      <td>4.953524</td>\n",
       "      <td>6.000000</td>\n",
       "      <td>3.65</td>\n",
       "      <td>6.472463</td>\n",
       "      <td>7.420359</td>\n",
       "      <td>5.686140</td>\n",
       "      <td>23.292170</td>\n",
       "      <td>25.237761</td>\n",
       "      <td>21.122080</td>\n",
       "    </tr>\n",
       "    <tr>\n",
       "      <th>2017-06-15</th>\n",
       "      <td>32.358051</td>\n",
       "      <td>42.673409</td>\n",
       "      <td>22.312290</td>\n",
       "      <td>4.985921</td>\n",
       "      <td>5.350000</td>\n",
       "      <td>4.650000</td>\n",
       "      <td>5.832570</td>\n",
       "      <td>6.200000</td>\n",
       "      <td>5.500000</td>\n",
       "      <td>2.652418</td>\n",
       "      <td>...</td>\n",
       "      <td>1.90</td>\n",
       "      <td>2.755220</td>\n",
       "      <td>4.050000</td>\n",
       "      <td>1.20</td>\n",
       "      <td>8.048318</td>\n",
       "      <td>8.812847</td>\n",
       "      <td>7.528717</td>\n",
       "      <td>24.349001</td>\n",
       "      <td>26.468990</td>\n",
       "      <td>21.963551</td>\n",
       "    </tr>\n",
       "    <tr>\n",
       "      <th>2018-06-15</th>\n",
       "      <td>35.635719</td>\n",
       "      <td>46.213760</td>\n",
       "      <td>24.993561</td>\n",
       "      <td>5.272038</td>\n",
       "      <td>5.750000</td>\n",
       "      <td>4.850000</td>\n",
       "      <td>5.969421</td>\n",
       "      <td>6.400000</td>\n",
       "      <td>5.600000</td>\n",
       "      <td>3.810021</td>\n",
       "      <td>...</td>\n",
       "      <td>2.95</td>\n",
       "      <td>2.005245</td>\n",
       "      <td>3.450000</td>\n",
       "      <td>0.20</td>\n",
       "      <td>8.563515</td>\n",
       "      <td>9.560000</td>\n",
       "      <td>7.737213</td>\n",
       "      <td>25.692890</td>\n",
       "      <td>28.152800</td>\n",
       "      <td>22.945410</td>\n",
       "    </tr>\n",
       "  </tbody>\n",
       "</table>\n",
       "<p>119 rows × 21 columns</p>\n",
       "</div>"
      ],
      "text/plain": [
       "            global_average_sea_level_change  \\\n",
       "time                                          \n",
       "1900-06-15                      -173.261398   \n",
       "1901-06-15                      -168.801697   \n",
       "1902-06-15                      -180.389999   \n",
       "1903-06-15                      -170.267807   \n",
       "1904-06-15                      -168.720093   \n",
       "...                                     ...   \n",
       "2014-06-15                        11.868940   \n",
       "2015-06-15                        17.869520   \n",
       "2016-06-15                        23.941860   \n",
       "2017-06-15                        32.358051   \n",
       "2018-06-15                        35.635719   \n",
       "\n",
       "            global_average_sea_level_change_upper  \\\n",
       "time                                                \n",
       "1900-06-15                            -141.002808   \n",
       "1901-06-15                            -135.897598   \n",
       "1902-06-15                            -148.213806   \n",
       "1903-06-15                            -138.930496   \n",
       "1904-06-15                            -137.450104   \n",
       "...                                           ...   \n",
       "2014-06-15                              20.258060   \n",
       "2015-06-15                              26.591749   \n",
       "2016-06-15                              32.672989   \n",
       "2017-06-15                              42.673409   \n",
       "2018-06-15                              46.213760   \n",
       "\n",
       "            global_average_sea_level_change_lower  glac_mean  glac_upper  \\\n",
       "time                                                                       \n",
       "1900-06-15                            -203.557297 -79.553703  -62.500000   \n",
       "1901-06-15                            -201.018494 -78.703812  -61.799999   \n",
       "1902-06-15                            -212.074097 -77.843643  -61.200001   \n",
       "1903-06-15                            -202.697601 -77.272087  -60.549999   \n",
       "1904-06-15                            -200.167007 -76.430740  -59.799999   \n",
       "...                                           ...        ...         ...   \n",
       "2014-06-15                               3.502924   2.607803    2.800000   \n",
       "2015-06-15                               9.216259   3.392661    3.650000   \n",
       "2016-06-15                              15.510550   4.098025    4.350000   \n",
       "2017-06-15                              22.312290   4.985921    5.350000   \n",
       "2018-06-15                              24.993561   5.272038    5.750000   \n",
       "\n",
       "            glac_lower  GrIS_mean  GrIS_upper  GrIS_lower  AIS_mean  ...  \\\n",
       "time                                                                 ...   \n",
       "1900-06-15  -95.500000 -48.064430  -37.400002  -58.799999 -9.494853  ...   \n",
       "1901-06-15  -94.599998 -48.179390  -37.599998  -58.950001 -9.440325  ...   \n",
       "1902-06-15  -93.500000 -47.861698  -37.450001  -58.650002 -9.385606  ...   \n",
       "1903-06-15  -92.849998 -47.453548  -36.950001  -58.200001 -9.331830  ...   \n",
       "1904-06-15  -91.800003 -46.626560  -37.400002  -56.200001 -9.277636  ...   \n",
       "...                ...        ...         ...         ...       ...  ...   \n",
       "2014-06-15    2.450000   3.849548    4.050000    3.700000  1.770051  ...   \n",
       "2015-06-15    3.200000   4.429987    4.700000    4.200000  2.701558  ...   \n",
       "2016-06-15    3.850000   5.181757    5.500000    4.950000  2.511931  ...   \n",
       "2017-06-15    4.650000   5.832570    6.200000    5.500000  2.652418  ...   \n",
       "2018-06-15    4.850000   5.969421    6.400000    5.600000  3.810021  ...   \n",
       "\n",
       "            AIS_lower   tws_mean  tws_upper  tws_lower  \\\n",
       "time                                                     \n",
       "1900-06-15     -16.15  12.326830  21.799999       2.80   \n",
       "1901-06-15     -16.00  15.246700  24.700001       5.75   \n",
       "1902-06-15     -15.90  16.570810  26.100000       7.15   \n",
       "1903-06-15     -15.80  16.624290  26.100000       7.15   \n",
       "1904-06-15     -15.65  16.227051  25.700001       6.70   \n",
       "...               ...        ...        ...        ...   \n",
       "2014-06-15       1.40  -0.759097  -0.050000      -1.60   \n",
       "2015-06-15       2.20   3.344095   4.250000       2.30   \n",
       "2016-06-15       1.90   4.953524   6.000000       3.65   \n",
       "2017-06-15       1.90   2.755220   4.050000       1.20   \n",
       "2018-06-15       2.95   2.005245   3.450000       0.20   \n",
       "\n",
       "            global_average_thermosteric_sea_level_change  \\\n",
       "time                                                       \n",
       "1900-06-15                                    -48.279350   \n",
       "1901-06-15                                    -49.144901   \n",
       "1902-06-15                                    -49.877560   \n",
       "1903-06-15                                    -51.100590   \n",
       "1904-06-15                                    -52.240181   \n",
       "...                                                  ...   \n",
       "2014-06-15                                      4.670032   \n",
       "2015-06-15                                      6.744699   \n",
       "2016-06-15                                      6.472463   \n",
       "2017-06-15                                      8.048318   \n",
       "2018-06-15                                      8.563515   \n",
       "\n",
       "            global_average_thermosteric_sea_level_change_upper  \\\n",
       "time                                                             \n",
       "1900-06-15                                         -37.552921    \n",
       "1901-06-15                                         -38.849602    \n",
       "1902-06-15                                         -39.888828    \n",
       "1903-06-15                                         -40.815861    \n",
       "1904-06-15                                         -41.379250    \n",
       "...                                                       ...    \n",
       "2014-06-15                                           5.028707    \n",
       "2015-06-15                                           7.239516    \n",
       "2016-06-15                                           7.420359    \n",
       "2017-06-15                                           8.812847    \n",
       "2018-06-15                                           9.560000    \n",
       "\n",
       "            global_average_thermosteric_sea_level_change_lower  \\\n",
       "time                                                             \n",
       "1900-06-15                                         -58.666309    \n",
       "1901-06-15                                         -58.755150    \n",
       "1902-06-15                                         -59.155022    \n",
       "1903-06-15                                         -60.985008    \n",
       "1904-06-15                                         -62.585709    \n",
       "...                                                       ...    \n",
       "2014-06-15                                           4.308544    \n",
       "2015-06-15                                           5.933526    \n",
       "2016-06-15                                           5.686140    \n",
       "2017-06-15                                           7.528717    \n",
       "2018-06-15                                           7.737213    \n",
       "\n",
       "            sum_of_contrib_processes_mean  sum_of_contrib_processes_upper  \\\n",
       "time                                                                        \n",
       "1900-06-15                    -173.090805                     -146.755402   \n",
       "1901-06-15                    -170.245499                     -144.462402   \n",
       "1902-06-15                    -168.421799                     -142.791702   \n",
       "1903-06-15                    -168.557602                     -143.225800   \n",
       "1904-06-15                    -168.372406                     -142.754593   \n",
       "...                                   ...                             ...   \n",
       "2014-06-15                      12.164770                       13.248380   \n",
       "2015-06-15                      20.688690                       22.158630   \n",
       "2016-06-15                      23.292170                       25.237761   \n",
       "2017-06-15                      24.349001                       26.468990   \n",
       "2018-06-15                      25.692890                       28.152800   \n",
       "\n",
       "            sum_of_contrib_processes_lower  \n",
       "time                                        \n",
       "1900-06-15                     -199.227905  \n",
       "1901-06-15                     -195.460800  \n",
       "1902-06-15                     -193.369797  \n",
       "1903-06-15                     -193.189896  \n",
       "1904-06-15                     -193.112198  \n",
       "...                                    ...  \n",
       "2014-06-15                       10.868380  \n",
       "2015-06-15                       18.938299  \n",
       "2016-06-15                       21.122080  \n",
       "2017-06-15                       21.963551  \n",
       "2018-06-15                       22.945410  \n",
       "\n",
       "[119 rows x 21 columns]"
      ]
     },
     "execution_count": 13,
     "metadata": {},
     "output_type": "execute_result"
    }
   ],
   "source": [
    "df = d1.to_dataframe()\n",
    "#df = df.drop(columns=['time'])\n",
    "#df.columns.values\n",
    "df"
   ]
  },
  {
   "cell_type": "code",
   "execution_count": 14,
   "id": "80be514b-b49c-46d5-8240-8ed7fb8be8a3",
   "metadata": {
    "id": "80be514b-b49c-46d5-8240-8ed7fb8be8a3",
    "outputId": "27f05455-4af5-40e9-ff0d-c0424f024d99"
   },
   "outputs": [
    {
     "data": {
      "text/html": [
       "<div>\n",
       "<style scoped>\n",
       "    .dataframe tbody tr th:only-of-type {\n",
       "        vertical-align: middle;\n",
       "    }\n",
       "\n",
       "    .dataframe tbody tr th {\n",
       "        vertical-align: top;\n",
       "    }\n",
       "\n",
       "    .dataframe thead th {\n",
       "        text-align: right;\n",
       "    }\n",
       "</style>\n",
       "<table border=\"1\" class=\"dataframe\">\n",
       "  <thead>\n",
       "    <tr style=\"text-align: right;\">\n",
       "      <th></th>\n",
       "      <th>global_average_sea_level_change</th>\n",
       "      <th>global_average_sea_level_change_upper</th>\n",
       "      <th>global_average_sea_level_change_lower</th>\n",
       "      <th>glac_mean</th>\n",
       "      <th>glac_upper</th>\n",
       "      <th>glac_lower</th>\n",
       "      <th>GrIS_mean</th>\n",
       "      <th>GrIS_upper</th>\n",
       "      <th>GrIS_lower</th>\n",
       "      <th>AIS_mean</th>\n",
       "      <th>...</th>\n",
       "      <th>tws_mean</th>\n",
       "      <th>tws_upper</th>\n",
       "      <th>tws_lower</th>\n",
       "      <th>global_average_thermosteric_sea_level_change</th>\n",
       "      <th>global_average_thermosteric_sea_level_change_upper</th>\n",
       "      <th>global_average_thermosteric_sea_level_change_lower</th>\n",
       "      <th>sum_of_contrib_processes_mean</th>\n",
       "      <th>sum_of_contrib_processes_upper</th>\n",
       "      <th>sum_of_contrib_processes_lower</th>\n",
       "      <th>global_average_sea_level_change_2</th>\n",
       "    </tr>\n",
       "    <tr>\n",
       "      <th>time</th>\n",
       "      <th></th>\n",
       "      <th></th>\n",
       "      <th></th>\n",
       "      <th></th>\n",
       "      <th></th>\n",
       "      <th></th>\n",
       "      <th></th>\n",
       "      <th></th>\n",
       "      <th></th>\n",
       "      <th></th>\n",
       "      <th></th>\n",
       "      <th></th>\n",
       "      <th></th>\n",
       "      <th></th>\n",
       "      <th></th>\n",
       "      <th></th>\n",
       "      <th></th>\n",
       "      <th></th>\n",
       "      <th></th>\n",
       "      <th></th>\n",
       "      <th></th>\n",
       "    </tr>\n",
       "  </thead>\n",
       "  <tbody>\n",
       "    <tr>\n",
       "      <th>1900-06-15</th>\n",
       "      <td>-173.261398</td>\n",
       "      <td>-141.002808</td>\n",
       "      <td>-203.557297</td>\n",
       "      <td>-79.553703</td>\n",
       "      <td>-62.500000</td>\n",
       "      <td>-95.500000</td>\n",
       "      <td>-48.064430</td>\n",
       "      <td>-37.400002</td>\n",
       "      <td>-58.799999</td>\n",
       "      <td>-9.494853</td>\n",
       "      <td>...</td>\n",
       "      <td>12.326830</td>\n",
       "      <td>21.799999</td>\n",
       "      <td>2.80</td>\n",
       "      <td>-48.279350</td>\n",
       "      <td>-37.552921</td>\n",
       "      <td>-58.666309</td>\n",
       "      <td>-173.090805</td>\n",
       "      <td>-146.755402</td>\n",
       "      <td>-199.227905</td>\n",
       "      <td>-173.261398</td>\n",
       "    </tr>\n",
       "    <tr>\n",
       "      <th>1901-06-15</th>\n",
       "      <td>-168.801697</td>\n",
       "      <td>-135.897598</td>\n",
       "      <td>-201.018494</td>\n",
       "      <td>-78.703812</td>\n",
       "      <td>-61.799999</td>\n",
       "      <td>-94.599998</td>\n",
       "      <td>-48.179390</td>\n",
       "      <td>-37.599998</td>\n",
       "      <td>-58.950001</td>\n",
       "      <td>-9.440325</td>\n",
       "      <td>...</td>\n",
       "      <td>15.246700</td>\n",
       "      <td>24.700001</td>\n",
       "      <td>5.75</td>\n",
       "      <td>-49.144901</td>\n",
       "      <td>-38.849602</td>\n",
       "      <td>-58.755150</td>\n",
       "      <td>-170.245499</td>\n",
       "      <td>-144.462402</td>\n",
       "      <td>-195.460800</td>\n",
       "      <td>-168.801697</td>\n",
       "    </tr>\n",
       "    <tr>\n",
       "      <th>1902-06-15</th>\n",
       "      <td>-180.389999</td>\n",
       "      <td>-148.213806</td>\n",
       "      <td>-212.074097</td>\n",
       "      <td>-77.843643</td>\n",
       "      <td>-61.200001</td>\n",
       "      <td>-93.500000</td>\n",
       "      <td>-47.861698</td>\n",
       "      <td>-37.450001</td>\n",
       "      <td>-58.650002</td>\n",
       "      <td>-9.385606</td>\n",
       "      <td>...</td>\n",
       "      <td>16.570810</td>\n",
       "      <td>26.100000</td>\n",
       "      <td>7.15</td>\n",
       "      <td>-49.877560</td>\n",
       "      <td>-39.888828</td>\n",
       "      <td>-59.155022</td>\n",
       "      <td>-168.421799</td>\n",
       "      <td>-142.791702</td>\n",
       "      <td>-193.369797</td>\n",
       "      <td>-180.389999</td>\n",
       "    </tr>\n",
       "    <tr>\n",
       "      <th>1903-06-15</th>\n",
       "      <td>-170.267807</td>\n",
       "      <td>-138.930496</td>\n",
       "      <td>-202.697601</td>\n",
       "      <td>-77.272087</td>\n",
       "      <td>-60.549999</td>\n",
       "      <td>-92.849998</td>\n",
       "      <td>-47.453548</td>\n",
       "      <td>-36.950001</td>\n",
       "      <td>-58.200001</td>\n",
       "      <td>-9.331830</td>\n",
       "      <td>...</td>\n",
       "      <td>16.624290</td>\n",
       "      <td>26.100000</td>\n",
       "      <td>7.15</td>\n",
       "      <td>-51.100590</td>\n",
       "      <td>-40.815861</td>\n",
       "      <td>-60.985008</td>\n",
       "      <td>-168.557602</td>\n",
       "      <td>-143.225800</td>\n",
       "      <td>-193.189896</td>\n",
       "      <td>-170.267807</td>\n",
       "    </tr>\n",
       "    <tr>\n",
       "      <th>1904-06-15</th>\n",
       "      <td>-168.720093</td>\n",
       "      <td>-137.450104</td>\n",
       "      <td>-200.167007</td>\n",
       "      <td>-76.430740</td>\n",
       "      <td>-59.799999</td>\n",
       "      <td>-91.800003</td>\n",
       "      <td>-46.626560</td>\n",
       "      <td>-37.400002</td>\n",
       "      <td>-56.200001</td>\n",
       "      <td>-9.277636</td>\n",
       "      <td>...</td>\n",
       "      <td>16.227051</td>\n",
       "      <td>25.700001</td>\n",
       "      <td>6.70</td>\n",
       "      <td>-52.240181</td>\n",
       "      <td>-41.379250</td>\n",
       "      <td>-62.585709</td>\n",
       "      <td>-168.372406</td>\n",
       "      <td>-142.754593</td>\n",
       "      <td>-193.112198</td>\n",
       "      <td>-168.720093</td>\n",
       "    </tr>\n",
       "    <tr>\n",
       "      <th>...</th>\n",
       "      <td>...</td>\n",
       "      <td>...</td>\n",
       "      <td>...</td>\n",
       "      <td>...</td>\n",
       "      <td>...</td>\n",
       "      <td>...</td>\n",
       "      <td>...</td>\n",
       "      <td>...</td>\n",
       "      <td>...</td>\n",
       "      <td>...</td>\n",
       "      <td>...</td>\n",
       "      <td>...</td>\n",
       "      <td>...</td>\n",
       "      <td>...</td>\n",
       "      <td>...</td>\n",
       "      <td>...</td>\n",
       "      <td>...</td>\n",
       "      <td>...</td>\n",
       "      <td>...</td>\n",
       "      <td>...</td>\n",
       "      <td>...</td>\n",
       "    </tr>\n",
       "    <tr>\n",
       "      <th>2014-06-15</th>\n",
       "      <td>11.868940</td>\n",
       "      <td>20.258060</td>\n",
       "      <td>3.502924</td>\n",
       "      <td>2.607803</td>\n",
       "      <td>2.800000</td>\n",
       "      <td>2.450000</td>\n",
       "      <td>3.849548</td>\n",
       "      <td>4.050000</td>\n",
       "      <td>3.700000</td>\n",
       "      <td>1.770051</td>\n",
       "      <td>...</td>\n",
       "      <td>-0.759097</td>\n",
       "      <td>-0.050000</td>\n",
       "      <td>-1.60</td>\n",
       "      <td>4.670032</td>\n",
       "      <td>5.028707</td>\n",
       "      <td>4.308544</td>\n",
       "      <td>12.164770</td>\n",
       "      <td>13.248380</td>\n",
       "      <td>10.868380</td>\n",
       "      <td>11.868940</td>\n",
       "    </tr>\n",
       "    <tr>\n",
       "      <th>2015-06-15</th>\n",
       "      <td>17.869520</td>\n",
       "      <td>26.591749</td>\n",
       "      <td>9.216259</td>\n",
       "      <td>3.392661</td>\n",
       "      <td>3.650000</td>\n",
       "      <td>3.200000</td>\n",
       "      <td>4.429987</td>\n",
       "      <td>4.700000</td>\n",
       "      <td>4.200000</td>\n",
       "      <td>2.701558</td>\n",
       "      <td>...</td>\n",
       "      <td>3.344095</td>\n",
       "      <td>4.250000</td>\n",
       "      <td>2.30</td>\n",
       "      <td>6.744699</td>\n",
       "      <td>7.239516</td>\n",
       "      <td>5.933526</td>\n",
       "      <td>20.688690</td>\n",
       "      <td>22.158630</td>\n",
       "      <td>18.938299</td>\n",
       "      <td>17.869520</td>\n",
       "    </tr>\n",
       "    <tr>\n",
       "      <th>2016-06-15</th>\n",
       "      <td>23.941860</td>\n",
       "      <td>32.672989</td>\n",
       "      <td>15.510550</td>\n",
       "      <td>4.098025</td>\n",
       "      <td>4.350000</td>\n",
       "      <td>3.850000</td>\n",
       "      <td>5.181757</td>\n",
       "      <td>5.500000</td>\n",
       "      <td>4.950000</td>\n",
       "      <td>2.511931</td>\n",
       "      <td>...</td>\n",
       "      <td>4.953524</td>\n",
       "      <td>6.000000</td>\n",
       "      <td>3.65</td>\n",
       "      <td>6.472463</td>\n",
       "      <td>7.420359</td>\n",
       "      <td>5.686140</td>\n",
       "      <td>23.292170</td>\n",
       "      <td>25.237761</td>\n",
       "      <td>21.122080</td>\n",
       "      <td>23.941860</td>\n",
       "    </tr>\n",
       "    <tr>\n",
       "      <th>2017-06-15</th>\n",
       "      <td>32.358051</td>\n",
       "      <td>42.673409</td>\n",
       "      <td>22.312290</td>\n",
       "      <td>4.985921</td>\n",
       "      <td>5.350000</td>\n",
       "      <td>4.650000</td>\n",
       "      <td>5.832570</td>\n",
       "      <td>6.200000</td>\n",
       "      <td>5.500000</td>\n",
       "      <td>2.652418</td>\n",
       "      <td>...</td>\n",
       "      <td>2.755220</td>\n",
       "      <td>4.050000</td>\n",
       "      <td>1.20</td>\n",
       "      <td>8.048318</td>\n",
       "      <td>8.812847</td>\n",
       "      <td>7.528717</td>\n",
       "      <td>24.349001</td>\n",
       "      <td>26.468990</td>\n",
       "      <td>21.963551</td>\n",
       "      <td>32.358051</td>\n",
       "    </tr>\n",
       "    <tr>\n",
       "      <th>2018-06-15</th>\n",
       "      <td>35.635719</td>\n",
       "      <td>46.213760</td>\n",
       "      <td>24.993561</td>\n",
       "      <td>5.272038</td>\n",
       "      <td>5.750000</td>\n",
       "      <td>4.850000</td>\n",
       "      <td>5.969421</td>\n",
       "      <td>6.400000</td>\n",
       "      <td>5.600000</td>\n",
       "      <td>3.810021</td>\n",
       "      <td>...</td>\n",
       "      <td>2.005245</td>\n",
       "      <td>3.450000</td>\n",
       "      <td>0.20</td>\n",
       "      <td>8.563515</td>\n",
       "      <td>9.560000</td>\n",
       "      <td>7.737213</td>\n",
       "      <td>25.692890</td>\n",
       "      <td>28.152800</td>\n",
       "      <td>22.945410</td>\n",
       "      <td>35.635719</td>\n",
       "    </tr>\n",
       "  </tbody>\n",
       "</table>\n",
       "<p>119 rows × 22 columns</p>\n",
       "</div>"
      ],
      "text/plain": [
       "            global_average_sea_level_change  \\\n",
       "time                                          \n",
       "1900-06-15                      -173.261398   \n",
       "1901-06-15                      -168.801697   \n",
       "1902-06-15                      -180.389999   \n",
       "1903-06-15                      -170.267807   \n",
       "1904-06-15                      -168.720093   \n",
       "...                                     ...   \n",
       "2014-06-15                        11.868940   \n",
       "2015-06-15                        17.869520   \n",
       "2016-06-15                        23.941860   \n",
       "2017-06-15                        32.358051   \n",
       "2018-06-15                        35.635719   \n",
       "\n",
       "            global_average_sea_level_change_upper  \\\n",
       "time                                                \n",
       "1900-06-15                            -141.002808   \n",
       "1901-06-15                            -135.897598   \n",
       "1902-06-15                            -148.213806   \n",
       "1903-06-15                            -138.930496   \n",
       "1904-06-15                            -137.450104   \n",
       "...                                           ...   \n",
       "2014-06-15                              20.258060   \n",
       "2015-06-15                              26.591749   \n",
       "2016-06-15                              32.672989   \n",
       "2017-06-15                              42.673409   \n",
       "2018-06-15                              46.213760   \n",
       "\n",
       "            global_average_sea_level_change_lower  glac_mean  glac_upper  \\\n",
       "time                                                                       \n",
       "1900-06-15                            -203.557297 -79.553703  -62.500000   \n",
       "1901-06-15                            -201.018494 -78.703812  -61.799999   \n",
       "1902-06-15                            -212.074097 -77.843643  -61.200001   \n",
       "1903-06-15                            -202.697601 -77.272087  -60.549999   \n",
       "1904-06-15                            -200.167007 -76.430740  -59.799999   \n",
       "...                                           ...        ...         ...   \n",
       "2014-06-15                               3.502924   2.607803    2.800000   \n",
       "2015-06-15                               9.216259   3.392661    3.650000   \n",
       "2016-06-15                              15.510550   4.098025    4.350000   \n",
       "2017-06-15                              22.312290   4.985921    5.350000   \n",
       "2018-06-15                              24.993561   5.272038    5.750000   \n",
       "\n",
       "            glac_lower  GrIS_mean  GrIS_upper  GrIS_lower  AIS_mean  ...  \\\n",
       "time                                                                 ...   \n",
       "1900-06-15  -95.500000 -48.064430  -37.400002  -58.799999 -9.494853  ...   \n",
       "1901-06-15  -94.599998 -48.179390  -37.599998  -58.950001 -9.440325  ...   \n",
       "1902-06-15  -93.500000 -47.861698  -37.450001  -58.650002 -9.385606  ...   \n",
       "1903-06-15  -92.849998 -47.453548  -36.950001  -58.200001 -9.331830  ...   \n",
       "1904-06-15  -91.800003 -46.626560  -37.400002  -56.200001 -9.277636  ...   \n",
       "...                ...        ...         ...         ...       ...  ...   \n",
       "2014-06-15    2.450000   3.849548    4.050000    3.700000  1.770051  ...   \n",
       "2015-06-15    3.200000   4.429987    4.700000    4.200000  2.701558  ...   \n",
       "2016-06-15    3.850000   5.181757    5.500000    4.950000  2.511931  ...   \n",
       "2017-06-15    4.650000   5.832570    6.200000    5.500000  2.652418  ...   \n",
       "2018-06-15    4.850000   5.969421    6.400000    5.600000  3.810021  ...   \n",
       "\n",
       "             tws_mean  tws_upper  tws_lower  \\\n",
       "time                                          \n",
       "1900-06-15  12.326830  21.799999       2.80   \n",
       "1901-06-15  15.246700  24.700001       5.75   \n",
       "1902-06-15  16.570810  26.100000       7.15   \n",
       "1903-06-15  16.624290  26.100000       7.15   \n",
       "1904-06-15  16.227051  25.700001       6.70   \n",
       "...               ...        ...        ...   \n",
       "2014-06-15  -0.759097  -0.050000      -1.60   \n",
       "2015-06-15   3.344095   4.250000       2.30   \n",
       "2016-06-15   4.953524   6.000000       3.65   \n",
       "2017-06-15   2.755220   4.050000       1.20   \n",
       "2018-06-15   2.005245   3.450000       0.20   \n",
       "\n",
       "            global_average_thermosteric_sea_level_change  \\\n",
       "time                                                       \n",
       "1900-06-15                                    -48.279350   \n",
       "1901-06-15                                    -49.144901   \n",
       "1902-06-15                                    -49.877560   \n",
       "1903-06-15                                    -51.100590   \n",
       "1904-06-15                                    -52.240181   \n",
       "...                                                  ...   \n",
       "2014-06-15                                      4.670032   \n",
       "2015-06-15                                      6.744699   \n",
       "2016-06-15                                      6.472463   \n",
       "2017-06-15                                      8.048318   \n",
       "2018-06-15                                      8.563515   \n",
       "\n",
       "            global_average_thermosteric_sea_level_change_upper  \\\n",
       "time                                                             \n",
       "1900-06-15                                         -37.552921    \n",
       "1901-06-15                                         -38.849602    \n",
       "1902-06-15                                         -39.888828    \n",
       "1903-06-15                                         -40.815861    \n",
       "1904-06-15                                         -41.379250    \n",
       "...                                                       ...    \n",
       "2014-06-15                                           5.028707    \n",
       "2015-06-15                                           7.239516    \n",
       "2016-06-15                                           7.420359    \n",
       "2017-06-15                                           8.812847    \n",
       "2018-06-15                                           9.560000    \n",
       "\n",
       "            global_average_thermosteric_sea_level_change_lower  \\\n",
       "time                                                             \n",
       "1900-06-15                                         -58.666309    \n",
       "1901-06-15                                         -58.755150    \n",
       "1902-06-15                                         -59.155022    \n",
       "1903-06-15                                         -60.985008    \n",
       "1904-06-15                                         -62.585709    \n",
       "...                                                       ...    \n",
       "2014-06-15                                           4.308544    \n",
       "2015-06-15                                           5.933526    \n",
       "2016-06-15                                           5.686140    \n",
       "2017-06-15                                           7.528717    \n",
       "2018-06-15                                           7.737213    \n",
       "\n",
       "            sum_of_contrib_processes_mean  sum_of_contrib_processes_upper  \\\n",
       "time                                                                        \n",
       "1900-06-15                    -173.090805                     -146.755402   \n",
       "1901-06-15                    -170.245499                     -144.462402   \n",
       "1902-06-15                    -168.421799                     -142.791702   \n",
       "1903-06-15                    -168.557602                     -143.225800   \n",
       "1904-06-15                    -168.372406                     -142.754593   \n",
       "...                                   ...                             ...   \n",
       "2014-06-15                      12.164770                       13.248380   \n",
       "2015-06-15                      20.688690                       22.158630   \n",
       "2016-06-15                      23.292170                       25.237761   \n",
       "2017-06-15                      24.349001                       26.468990   \n",
       "2018-06-15                      25.692890                       28.152800   \n",
       "\n",
       "            sum_of_contrib_processes_lower  global_average_sea_level_change_2  \n",
       "time                                                                           \n",
       "1900-06-15                     -199.227905                        -173.261398  \n",
       "1901-06-15                     -195.460800                        -168.801697  \n",
       "1902-06-15                     -193.369797                        -180.389999  \n",
       "1903-06-15                     -193.189896                        -170.267807  \n",
       "1904-06-15                     -193.112198                        -168.720093  \n",
       "...                                    ...                                ...  \n",
       "2014-06-15                       10.868380                          11.868940  \n",
       "2015-06-15                       18.938299                          17.869520  \n",
       "2016-06-15                       21.122080                          23.941860  \n",
       "2017-06-15                       21.963551                          32.358051  \n",
       "2018-06-15                       22.945410                          35.635719  \n",
       "\n",
       "[119 rows x 22 columns]"
      ]
     },
     "execution_count": 14,
     "metadata": {},
     "output_type": "execute_result"
    }
   ],
   "source": [
    "df.loc[:, 'global_average_sea_level_change_2'] = df['global_average_sea_level_change']\n",
    "df"
   ]
  },
  {
   "cell_type": "code",
   "execution_count": 15,
   "id": "AZDJoxO4-EO6",
   "metadata": {
    "id": "AZDJoxO4-EO6",
    "tags": []
   },
   "outputs": [],
   "source": [
    "#Creating datasets with lag of 1 to 6 months\n",
    "df1 = df.assign(global_average_sea_level_change_2 = df.global_average_sea_level_change_2.shift(-1)).drop(df.index[-1])\n",
    "df2 = df1.assign(global_average_sea_level_change_2 = df1.global_average_sea_level_change_2.shift(-1)).drop(df1.index[-1])\n",
    "df3 = df2.assign(global_average_sea_level_change_2 = df2.global_average_sea_level_change_2.shift(-1)).drop(df2.index[-1])\n",
    "df4 = df3.assign(global_average_sea_level_change_2 = df3.global_average_sea_level_change_2.shift(-1)).drop(df3.index[-1])\n",
    "df5 = df4.assign(global_average_sea_level_change_2 = df4.global_average_sea_level_change_2.shift(-1)).drop(df4.index[-1])\n",
    "df6 = df5.assign(global_average_sea_level_change_2 = df5.global_average_sea_level_change_2.shift(-1)).drop(df5.index[-1])"
   ]
  },
  {
   "cell_type": "markdown",
   "id": "dUKfiZajUmwn",
   "metadata": {
    "id": "dUKfiZajUmwn",
    "jp-MarkdownHeadingCollapsed": true,
    "tags": []
   },
   "source": [
    "## Model training based on 1 month lag data"
   ]
  },
  {
   "cell_type": "code",
   "execution_count": 16,
   "id": "MzoViPt1EcrJ",
   "metadata": {
    "colab": {
     "base_uri": "https://localhost:8080/",
     "height": 488
    },
    "id": "MzoViPt1EcrJ",
    "outputId": "9d5edd58-6571-4b57-e065-aab5ffaa0337"
   },
   "outputs": [
    {
     "data": {
      "text/html": [
       "<div>\n",
       "<style scoped>\n",
       "    .dataframe tbody tr th:only-of-type {\n",
       "        vertical-align: middle;\n",
       "    }\n",
       "\n",
       "    .dataframe tbody tr th {\n",
       "        vertical-align: top;\n",
       "    }\n",
       "\n",
       "    .dataframe thead th {\n",
       "        text-align: right;\n",
       "    }\n",
       "</style>\n",
       "<table border=\"1\" class=\"dataframe\">\n",
       "  <thead>\n",
       "    <tr style=\"text-align: right;\">\n",
       "      <th></th>\n",
       "      <th>global_average_sea_level_change</th>\n",
       "      <th>global_average_sea_level_change_upper</th>\n",
       "      <th>global_average_sea_level_change_lower</th>\n",
       "      <th>glac_mean</th>\n",
       "      <th>glac_upper</th>\n",
       "      <th>glac_lower</th>\n",
       "      <th>GrIS_mean</th>\n",
       "      <th>GrIS_upper</th>\n",
       "      <th>GrIS_lower</th>\n",
       "      <th>AIS_mean</th>\n",
       "      <th>...</th>\n",
       "      <th>tws_mean</th>\n",
       "      <th>tws_upper</th>\n",
       "      <th>tws_lower</th>\n",
       "      <th>global_average_thermosteric_sea_level_change</th>\n",
       "      <th>global_average_thermosteric_sea_level_change_upper</th>\n",
       "      <th>global_average_thermosteric_sea_level_change_lower</th>\n",
       "      <th>sum_of_contrib_processes_mean</th>\n",
       "      <th>sum_of_contrib_processes_upper</th>\n",
       "      <th>sum_of_contrib_processes_lower</th>\n",
       "      <th>global_average_sea_level_change_2</th>\n",
       "    </tr>\n",
       "    <tr>\n",
       "      <th>time</th>\n",
       "      <th></th>\n",
       "      <th></th>\n",
       "      <th></th>\n",
       "      <th></th>\n",
       "      <th></th>\n",
       "      <th></th>\n",
       "      <th></th>\n",
       "      <th></th>\n",
       "      <th></th>\n",
       "      <th></th>\n",
       "      <th></th>\n",
       "      <th></th>\n",
       "      <th></th>\n",
       "      <th></th>\n",
       "      <th></th>\n",
       "      <th></th>\n",
       "      <th></th>\n",
       "      <th></th>\n",
       "      <th></th>\n",
       "      <th></th>\n",
       "      <th></th>\n",
       "    </tr>\n",
       "  </thead>\n",
       "  <tbody>\n",
       "    <tr>\n",
       "      <th>1900-06-15</th>\n",
       "      <td>-173.261398</td>\n",
       "      <td>-141.002808</td>\n",
       "      <td>-203.557297</td>\n",
       "      <td>-79.553703</td>\n",
       "      <td>-62.500000</td>\n",
       "      <td>-95.500000</td>\n",
       "      <td>-48.064430</td>\n",
       "      <td>-37.400002</td>\n",
       "      <td>-58.799999</td>\n",
       "      <td>-9.494853</td>\n",
       "      <td>...</td>\n",
       "      <td>12.326830</td>\n",
       "      <td>21.799999</td>\n",
       "      <td>2.80</td>\n",
       "      <td>-48.279350</td>\n",
       "      <td>-37.552921</td>\n",
       "      <td>-58.666309</td>\n",
       "      <td>-173.090805</td>\n",
       "      <td>-146.755402</td>\n",
       "      <td>-199.227905</td>\n",
       "      <td>-168.801697</td>\n",
       "    </tr>\n",
       "    <tr>\n",
       "      <th>1901-06-15</th>\n",
       "      <td>-168.801697</td>\n",
       "      <td>-135.897598</td>\n",
       "      <td>-201.018494</td>\n",
       "      <td>-78.703812</td>\n",
       "      <td>-61.799999</td>\n",
       "      <td>-94.599998</td>\n",
       "      <td>-48.179390</td>\n",
       "      <td>-37.599998</td>\n",
       "      <td>-58.950001</td>\n",
       "      <td>-9.440325</td>\n",
       "      <td>...</td>\n",
       "      <td>15.246700</td>\n",
       "      <td>24.700001</td>\n",
       "      <td>5.75</td>\n",
       "      <td>-49.144901</td>\n",
       "      <td>-38.849602</td>\n",
       "      <td>-58.755150</td>\n",
       "      <td>-170.245499</td>\n",
       "      <td>-144.462402</td>\n",
       "      <td>-195.460800</td>\n",
       "      <td>-180.389999</td>\n",
       "    </tr>\n",
       "    <tr>\n",
       "      <th>1902-06-15</th>\n",
       "      <td>-180.389999</td>\n",
       "      <td>-148.213806</td>\n",
       "      <td>-212.074097</td>\n",
       "      <td>-77.843643</td>\n",
       "      <td>-61.200001</td>\n",
       "      <td>-93.500000</td>\n",
       "      <td>-47.861698</td>\n",
       "      <td>-37.450001</td>\n",
       "      <td>-58.650002</td>\n",
       "      <td>-9.385606</td>\n",
       "      <td>...</td>\n",
       "      <td>16.570810</td>\n",
       "      <td>26.100000</td>\n",
       "      <td>7.15</td>\n",
       "      <td>-49.877560</td>\n",
       "      <td>-39.888828</td>\n",
       "      <td>-59.155022</td>\n",
       "      <td>-168.421799</td>\n",
       "      <td>-142.791702</td>\n",
       "      <td>-193.369797</td>\n",
       "      <td>-170.267807</td>\n",
       "    </tr>\n",
       "    <tr>\n",
       "      <th>1903-06-15</th>\n",
       "      <td>-170.267807</td>\n",
       "      <td>-138.930496</td>\n",
       "      <td>-202.697601</td>\n",
       "      <td>-77.272087</td>\n",
       "      <td>-60.549999</td>\n",
       "      <td>-92.849998</td>\n",
       "      <td>-47.453548</td>\n",
       "      <td>-36.950001</td>\n",
       "      <td>-58.200001</td>\n",
       "      <td>-9.331830</td>\n",
       "      <td>...</td>\n",
       "      <td>16.624290</td>\n",
       "      <td>26.100000</td>\n",
       "      <td>7.15</td>\n",
       "      <td>-51.100590</td>\n",
       "      <td>-40.815861</td>\n",
       "      <td>-60.985008</td>\n",
       "      <td>-168.557602</td>\n",
       "      <td>-143.225800</td>\n",
       "      <td>-193.189896</td>\n",
       "      <td>-168.720093</td>\n",
       "    </tr>\n",
       "    <tr>\n",
       "      <th>1904-06-15</th>\n",
       "      <td>-168.720093</td>\n",
       "      <td>-137.450104</td>\n",
       "      <td>-200.167007</td>\n",
       "      <td>-76.430740</td>\n",
       "      <td>-59.799999</td>\n",
       "      <td>-91.800003</td>\n",
       "      <td>-46.626560</td>\n",
       "      <td>-37.400002</td>\n",
       "      <td>-56.200001</td>\n",
       "      <td>-9.277636</td>\n",
       "      <td>...</td>\n",
       "      <td>16.227051</td>\n",
       "      <td>25.700001</td>\n",
       "      <td>6.70</td>\n",
       "      <td>-52.240181</td>\n",
       "      <td>-41.379250</td>\n",
       "      <td>-62.585709</td>\n",
       "      <td>-168.372406</td>\n",
       "      <td>-142.754593</td>\n",
       "      <td>-193.112198</td>\n",
       "      <td>-160.981400</td>\n",
       "    </tr>\n",
       "    <tr>\n",
       "      <th>...</th>\n",
       "      <td>...</td>\n",
       "      <td>...</td>\n",
       "      <td>...</td>\n",
       "      <td>...</td>\n",
       "      <td>...</td>\n",
       "      <td>...</td>\n",
       "      <td>...</td>\n",
       "      <td>...</td>\n",
       "      <td>...</td>\n",
       "      <td>...</td>\n",
       "      <td>...</td>\n",
       "      <td>...</td>\n",
       "      <td>...</td>\n",
       "      <td>...</td>\n",
       "      <td>...</td>\n",
       "      <td>...</td>\n",
       "      <td>...</td>\n",
       "      <td>...</td>\n",
       "      <td>...</td>\n",
       "      <td>...</td>\n",
       "      <td>...</td>\n",
       "    </tr>\n",
       "    <tr>\n",
       "      <th>2013-06-15</th>\n",
       "      <td>6.370174</td>\n",
       "      <td>14.942650</td>\n",
       "      <td>-2.195722</td>\n",
       "      <td>1.867449</td>\n",
       "      <td>2.050000</td>\n",
       "      <td>1.700000</td>\n",
       "      <td>3.443771</td>\n",
       "      <td>3.600000</td>\n",
       "      <td>3.350000</td>\n",
       "      <td>1.079971</td>\n",
       "      <td>...</td>\n",
       "      <td>0.398772</td>\n",
       "      <td>0.900000</td>\n",
       "      <td>-0.15</td>\n",
       "      <td>3.112605</td>\n",
       "      <td>3.669379</td>\n",
       "      <td>2.740455</td>\n",
       "      <td>9.972470</td>\n",
       "      <td>10.931610</td>\n",
       "      <td>8.955513</td>\n",
       "      <td>11.868940</td>\n",
       "    </tr>\n",
       "    <tr>\n",
       "      <th>2014-06-15</th>\n",
       "      <td>11.868940</td>\n",
       "      <td>20.258060</td>\n",
       "      <td>3.502924</td>\n",
       "      <td>2.607803</td>\n",
       "      <td>2.800000</td>\n",
       "      <td>2.450000</td>\n",
       "      <td>3.849548</td>\n",
       "      <td>4.050000</td>\n",
       "      <td>3.700000</td>\n",
       "      <td>1.770051</td>\n",
       "      <td>...</td>\n",
       "      <td>-0.759097</td>\n",
       "      <td>-0.050000</td>\n",
       "      <td>-1.60</td>\n",
       "      <td>4.670032</td>\n",
       "      <td>5.028707</td>\n",
       "      <td>4.308544</td>\n",
       "      <td>12.164770</td>\n",
       "      <td>13.248380</td>\n",
       "      <td>10.868380</td>\n",
       "      <td>17.869520</td>\n",
       "    </tr>\n",
       "    <tr>\n",
       "      <th>2015-06-15</th>\n",
       "      <td>17.869520</td>\n",
       "      <td>26.591749</td>\n",
       "      <td>9.216259</td>\n",
       "      <td>3.392661</td>\n",
       "      <td>3.650000</td>\n",
       "      <td>3.200000</td>\n",
       "      <td>4.429987</td>\n",
       "      <td>4.700000</td>\n",
       "      <td>4.200000</td>\n",
       "      <td>2.701558</td>\n",
       "      <td>...</td>\n",
       "      <td>3.344095</td>\n",
       "      <td>4.250000</td>\n",
       "      <td>2.30</td>\n",
       "      <td>6.744699</td>\n",
       "      <td>7.239516</td>\n",
       "      <td>5.933526</td>\n",
       "      <td>20.688690</td>\n",
       "      <td>22.158630</td>\n",
       "      <td>18.938299</td>\n",
       "      <td>23.941860</td>\n",
       "    </tr>\n",
       "    <tr>\n",
       "      <th>2016-06-15</th>\n",
       "      <td>23.941860</td>\n",
       "      <td>32.672989</td>\n",
       "      <td>15.510550</td>\n",
       "      <td>4.098025</td>\n",
       "      <td>4.350000</td>\n",
       "      <td>3.850000</td>\n",
       "      <td>5.181757</td>\n",
       "      <td>5.500000</td>\n",
       "      <td>4.950000</td>\n",
       "      <td>2.511931</td>\n",
       "      <td>...</td>\n",
       "      <td>4.953524</td>\n",
       "      <td>6.000000</td>\n",
       "      <td>3.65</td>\n",
       "      <td>6.472463</td>\n",
       "      <td>7.420359</td>\n",
       "      <td>5.686140</td>\n",
       "      <td>23.292170</td>\n",
       "      <td>25.237761</td>\n",
       "      <td>21.122080</td>\n",
       "      <td>32.358051</td>\n",
       "    </tr>\n",
       "    <tr>\n",
       "      <th>2017-06-15</th>\n",
       "      <td>32.358051</td>\n",
       "      <td>42.673409</td>\n",
       "      <td>22.312290</td>\n",
       "      <td>4.985921</td>\n",
       "      <td>5.350000</td>\n",
       "      <td>4.650000</td>\n",
       "      <td>5.832570</td>\n",
       "      <td>6.200000</td>\n",
       "      <td>5.500000</td>\n",
       "      <td>2.652418</td>\n",
       "      <td>...</td>\n",
       "      <td>2.755220</td>\n",
       "      <td>4.050000</td>\n",
       "      <td>1.20</td>\n",
       "      <td>8.048318</td>\n",
       "      <td>8.812847</td>\n",
       "      <td>7.528717</td>\n",
       "      <td>24.349001</td>\n",
       "      <td>26.468990</td>\n",
       "      <td>21.963551</td>\n",
       "      <td>35.635719</td>\n",
       "    </tr>\n",
       "  </tbody>\n",
       "</table>\n",
       "<p>118 rows × 22 columns</p>\n",
       "</div>"
      ],
      "text/plain": [
       "            global_average_sea_level_change  \\\n",
       "time                                          \n",
       "1900-06-15                      -173.261398   \n",
       "1901-06-15                      -168.801697   \n",
       "1902-06-15                      -180.389999   \n",
       "1903-06-15                      -170.267807   \n",
       "1904-06-15                      -168.720093   \n",
       "...                                     ...   \n",
       "2013-06-15                         6.370174   \n",
       "2014-06-15                        11.868940   \n",
       "2015-06-15                        17.869520   \n",
       "2016-06-15                        23.941860   \n",
       "2017-06-15                        32.358051   \n",
       "\n",
       "            global_average_sea_level_change_upper  \\\n",
       "time                                                \n",
       "1900-06-15                            -141.002808   \n",
       "1901-06-15                            -135.897598   \n",
       "1902-06-15                            -148.213806   \n",
       "1903-06-15                            -138.930496   \n",
       "1904-06-15                            -137.450104   \n",
       "...                                           ...   \n",
       "2013-06-15                              14.942650   \n",
       "2014-06-15                              20.258060   \n",
       "2015-06-15                              26.591749   \n",
       "2016-06-15                              32.672989   \n",
       "2017-06-15                              42.673409   \n",
       "\n",
       "            global_average_sea_level_change_lower  glac_mean  glac_upper  \\\n",
       "time                                                                       \n",
       "1900-06-15                            -203.557297 -79.553703  -62.500000   \n",
       "1901-06-15                            -201.018494 -78.703812  -61.799999   \n",
       "1902-06-15                            -212.074097 -77.843643  -61.200001   \n",
       "1903-06-15                            -202.697601 -77.272087  -60.549999   \n",
       "1904-06-15                            -200.167007 -76.430740  -59.799999   \n",
       "...                                           ...        ...         ...   \n",
       "2013-06-15                              -2.195722   1.867449    2.050000   \n",
       "2014-06-15                               3.502924   2.607803    2.800000   \n",
       "2015-06-15                               9.216259   3.392661    3.650000   \n",
       "2016-06-15                              15.510550   4.098025    4.350000   \n",
       "2017-06-15                              22.312290   4.985921    5.350000   \n",
       "\n",
       "            glac_lower  GrIS_mean  GrIS_upper  GrIS_lower  AIS_mean  ...  \\\n",
       "time                                                                 ...   \n",
       "1900-06-15  -95.500000 -48.064430  -37.400002  -58.799999 -9.494853  ...   \n",
       "1901-06-15  -94.599998 -48.179390  -37.599998  -58.950001 -9.440325  ...   \n",
       "1902-06-15  -93.500000 -47.861698  -37.450001  -58.650002 -9.385606  ...   \n",
       "1903-06-15  -92.849998 -47.453548  -36.950001  -58.200001 -9.331830  ...   \n",
       "1904-06-15  -91.800003 -46.626560  -37.400002  -56.200001 -9.277636  ...   \n",
       "...                ...        ...         ...         ...       ...  ...   \n",
       "2013-06-15    1.700000   3.443771    3.600000    3.350000  1.079971  ...   \n",
       "2014-06-15    2.450000   3.849548    4.050000    3.700000  1.770051  ...   \n",
       "2015-06-15    3.200000   4.429987    4.700000    4.200000  2.701558  ...   \n",
       "2016-06-15    3.850000   5.181757    5.500000    4.950000  2.511931  ...   \n",
       "2017-06-15    4.650000   5.832570    6.200000    5.500000  2.652418  ...   \n",
       "\n",
       "             tws_mean  tws_upper  tws_lower  \\\n",
       "time                                          \n",
       "1900-06-15  12.326830  21.799999       2.80   \n",
       "1901-06-15  15.246700  24.700001       5.75   \n",
       "1902-06-15  16.570810  26.100000       7.15   \n",
       "1903-06-15  16.624290  26.100000       7.15   \n",
       "1904-06-15  16.227051  25.700001       6.70   \n",
       "...               ...        ...        ...   \n",
       "2013-06-15   0.398772   0.900000      -0.15   \n",
       "2014-06-15  -0.759097  -0.050000      -1.60   \n",
       "2015-06-15   3.344095   4.250000       2.30   \n",
       "2016-06-15   4.953524   6.000000       3.65   \n",
       "2017-06-15   2.755220   4.050000       1.20   \n",
       "\n",
       "            global_average_thermosteric_sea_level_change  \\\n",
       "time                                                       \n",
       "1900-06-15                                    -48.279350   \n",
       "1901-06-15                                    -49.144901   \n",
       "1902-06-15                                    -49.877560   \n",
       "1903-06-15                                    -51.100590   \n",
       "1904-06-15                                    -52.240181   \n",
       "...                                                  ...   \n",
       "2013-06-15                                      3.112605   \n",
       "2014-06-15                                      4.670032   \n",
       "2015-06-15                                      6.744699   \n",
       "2016-06-15                                      6.472463   \n",
       "2017-06-15                                      8.048318   \n",
       "\n",
       "            global_average_thermosteric_sea_level_change_upper  \\\n",
       "time                                                             \n",
       "1900-06-15                                         -37.552921    \n",
       "1901-06-15                                         -38.849602    \n",
       "1902-06-15                                         -39.888828    \n",
       "1903-06-15                                         -40.815861    \n",
       "1904-06-15                                         -41.379250    \n",
       "...                                                       ...    \n",
       "2013-06-15                                           3.669379    \n",
       "2014-06-15                                           5.028707    \n",
       "2015-06-15                                           7.239516    \n",
       "2016-06-15                                           7.420359    \n",
       "2017-06-15                                           8.812847    \n",
       "\n",
       "            global_average_thermosteric_sea_level_change_lower  \\\n",
       "time                                                             \n",
       "1900-06-15                                         -58.666309    \n",
       "1901-06-15                                         -58.755150    \n",
       "1902-06-15                                         -59.155022    \n",
       "1903-06-15                                         -60.985008    \n",
       "1904-06-15                                         -62.585709    \n",
       "...                                                       ...    \n",
       "2013-06-15                                           2.740455    \n",
       "2014-06-15                                           4.308544    \n",
       "2015-06-15                                           5.933526    \n",
       "2016-06-15                                           5.686140    \n",
       "2017-06-15                                           7.528717    \n",
       "\n",
       "            sum_of_contrib_processes_mean  sum_of_contrib_processes_upper  \\\n",
       "time                                                                        \n",
       "1900-06-15                    -173.090805                     -146.755402   \n",
       "1901-06-15                    -170.245499                     -144.462402   \n",
       "1902-06-15                    -168.421799                     -142.791702   \n",
       "1903-06-15                    -168.557602                     -143.225800   \n",
       "1904-06-15                    -168.372406                     -142.754593   \n",
       "...                                   ...                             ...   \n",
       "2013-06-15                       9.972470                       10.931610   \n",
       "2014-06-15                      12.164770                       13.248380   \n",
       "2015-06-15                      20.688690                       22.158630   \n",
       "2016-06-15                      23.292170                       25.237761   \n",
       "2017-06-15                      24.349001                       26.468990   \n",
       "\n",
       "            sum_of_contrib_processes_lower  global_average_sea_level_change_2  \n",
       "time                                                                           \n",
       "1900-06-15                     -199.227905                        -168.801697  \n",
       "1901-06-15                     -195.460800                        -180.389999  \n",
       "1902-06-15                     -193.369797                        -170.267807  \n",
       "1903-06-15                     -193.189896                        -168.720093  \n",
       "1904-06-15                     -193.112198                        -160.981400  \n",
       "...                                    ...                                ...  \n",
       "2013-06-15                        8.955513                          11.868940  \n",
       "2014-06-15                       10.868380                          17.869520  \n",
       "2015-06-15                       18.938299                          23.941860  \n",
       "2016-06-15                       21.122080                          32.358051  \n",
       "2017-06-15                       21.963551                          35.635719  \n",
       "\n",
       "[118 rows x 22 columns]"
      ]
     },
     "execution_count": 16,
     "metadata": {},
     "output_type": "execute_result"
    }
   ],
   "source": [
    "df1"
   ]
  },
  {
   "cell_type": "code",
   "execution_count": 17,
   "id": "aqxrj67AwKR1",
   "metadata": {
    "id": "aqxrj67AwKR1"
   },
   "outputs": [],
   "source": [
    "data = np.array(df1)\n",
    "target = data[:,-1] #assign last column to be target variable\n",
    "data = data[:,:-1] #dropping last column from features\n",
    "\n",
    "# print(data.shape)\n",
    "# print(target.shape)\n",
    "LEN_DATA = len(data) #total number of pixels\n",
    "NUM_TRAIN = LEN_DATA - (24+6) #reserve last 30 months for testing\n",
    "\n",
    "\n",
    "\n",
    "x_train = data[0:NUM_TRAIN]\n",
    "y_train = target[0:NUM_TRAIN]\n",
    "\n",
    "x_test = data[NUM_TRAIN:]\n",
    "y_test=target[NUM_TRAIN:]\n",
    "\n"
   ]
  },
  {
   "cell_type": "code",
   "execution_count": 18,
   "id": "rFtD9gaDwRRl",
   "metadata": {
    "id": "rFtD9gaDwRRl"
   },
   "outputs": [],
   "source": [
    "# x_train, x_test, y_train, y_test = train_test_split(data,target,test_size=0.3,) # .target.reshape(-1, 1)"
   ]
  },
  {
   "cell_type": "code",
   "execution_count": 19,
   "id": "9ijjRAQbIfZ3",
   "metadata": {
    "colab": {
     "base_uri": "https://localhost:8080/"
    },
    "id": "9ijjRAQbIfZ3",
    "outputId": "c0c3b2df-d8df-4a86-ada8-efe29a7b3670"
   },
   "outputs": [
    {
     "name": "stdout",
     "output_type": "stream",
     "text": [
      "(88, 21)\n",
      "(88,)\n",
      "(30, 21)\n",
      "(30,)\n"
     ]
    }
   ],
   "source": [
    "print(x_train.shape)\n",
    "print(y_train.shape)\n",
    "print(x_test.shape)\n",
    "print(y_test.shape)"
   ]
  },
  {
   "cell_type": "code",
   "execution_count": 20,
   "id": "xv7_csvuyCqv",
   "metadata": {
    "id": "xv7_csvuyCqv"
   },
   "outputs": [],
   "source": [
    "from sklearn.preprocessing import MinMaxScaler, StandardScaler\n",
    "\n",
    "scaler_x = MinMaxScaler()\n",
    "x_train = scaler_x.fit_transform(x_train) \n",
    "x_test = scaler_x.transform(x_test) \n",
    "\n",
    "scaler_y = MinMaxScaler()\n",
    "y_train = scaler_y.fit_transform(y_train.reshape(-1,1))\n",
    "y_test = scaler_y.transform(y_test.reshape(-1,1)) "
   ]
  },
  {
   "cell_type": "code",
   "execution_count": 21,
   "id": "efdeaf3c-5460-466b-a1db-ecb811ac921e",
   "metadata": {
    "colab": {
     "base_uri": "https://localhost:8080/"
    },
    "id": "efdeaf3c-5460-466b-a1db-ecb811ac921e",
    "outputId": "bc69e7b0-1c7d-47bc-fe2a-90db7e32ee8d"
   },
   "outputs": [
    {
     "data": {
      "text/plain": [
       "LinearRegression()"
      ]
     },
     "execution_count": 21,
     "metadata": {},
     "output_type": "execute_result"
    }
   ],
   "source": [
    "model = LinearRegression()\n",
    "model.fit(x_train, y_train)"
   ]
  },
  {
   "cell_type": "code",
   "execution_count": 22,
   "id": "ef3a1000-a1f6-4a8b-8330-c670c336325c",
   "metadata": {
    "id": "ef3a1000-a1f6-4a8b-8330-c670c336325c"
   },
   "outputs": [],
   "source": [
    "y_pred = model.predict(x_test)\n",
    "y_train_pred = model.predict(x_train)"
   ]
  },
  {
   "cell_type": "code",
   "execution_count": 23,
   "id": "e46e0440-fc67-4836-b4ca-60ccaec5770b",
   "metadata": {
    "colab": {
     "base_uri": "https://localhost:8080/",
     "height": 265
    },
    "id": "e46e0440-fc67-4836-b4ca-60ccaec5770b",
    "outputId": "7633ca07-3d48-4f5c-e36a-365c1adaeac8"
   },
   "outputs": [
    {
     "data": {
      "image/png": "[encoded data removed]",
      "text/plain": [
       "<Figure size 432x288 with 1 Axes>"
      ]
     },
     "metadata": {
      "needs_background": "light"
     },
     "output_type": "display_data"
    }
   ],
   "source": [
    "%matplotlib inline\n",
    "#plot \n",
    "plt.plot(y_test, color='red')\n",
    "plt.plot(y_pred)\n",
    "\n",
    "plt.legend(['y_test','y_pred'])\n",
    "plt.show()\n"
   ]
  },
  {
   "cell_type": "code",
   "execution_count": 24,
   "id": "d22f96e5-67ec-4111-b0f7-162eebdcb053",
   "metadata": {
    "colab": {
     "base_uri": "https://localhost:8080/",
     "height": 54
    },
    "id": "d22f96e5-67ec-4111-b0f7-162eebdcb053",
    "outputId": "caae40cc-ae34-4d2a-d63f-a8851f2671a1"
   },
   "outputs": [
    {
     "data": {
      "image/png": "[encoded data removed]",
      "text/plain": [
       "<Figure size 432x288 with 1 Axes>"
      ]
     },
     "metadata": {
      "needs_background": "light"
     },
     "output_type": "display_data"
    }
   ],
   "source": [
    "%matplotlib inline\n",
    "#plot \n",
    "plt.plot(y_train, color='red')\n",
    "plt.plot(y_train_pred)\n",
    "\n",
    "plt.legend(['y_train','y_train_pred'])\n",
    "plt.show()"
   ]
  },
  {
   "cell_type": "code",
   "execution_count": 25,
   "id": "zbXroQaVvDEK",
   "metadata": {
    "id": "zbXroQaVvDEK"
   },
   "outputs": [],
   "source": [
    "#Sample code to inverse transform data\n",
    "#Inverse transformation should be performed after getting predictions\n",
    "inv_y_train = scaler_y.inverse_transform(y_train)\n",
    "inv_y_test = scaler_y.inverse_transform(y_test)\n",
    "inv_y_pred = scaler_y.inverse_transform(y_pred)\n"
   ]
  },
  {
   "cell_type": "code",
   "execution_count": 26,
   "id": "0cekiASER0eQ",
   "metadata": {
    "id": "0cekiASER0eQ"
   },
   "outputs": [],
   "source": [
    "#Save Test data vs predictions\n",
    "from tempfile import TemporaryFile\n",
    "\n",
    "#test_data = np.concatenate((inv_y_valid.reshape(-1,1),inv_testPred.reshape(-1,1)), axis=1)\n",
    "np_file = TemporaryFile()\n",
    "np.save('MLR_lag1.npy', inv_y_pred)\n",
    "_ = np_file.seek(0)"
   ]
  },
  {
   "cell_type": "code",
   "execution_count": 27,
   "id": "2e62173a-e930-4705-92ed-db59d6a4640f",
   "metadata": {
    "colab": {
     "base_uri": "https://localhost:8080/"
    },
    "id": "2e62173a-e930-4705-92ed-db59d6a4640f",
    "outputId": "c1425492-21b0-4928-e712-0b9b2bec1727"
   },
   "outputs": [
    {
     "data": {
      "text/plain": [
       "197.2281"
      ]
     },
     "execution_count": 27,
     "metadata": {},
     "output_type": "execute_result"
    }
   ],
   "source": [
    "rmse1 = np.sqrt(np.mean((inv_y_pred - inv_y_test) ** 2))\n",
    "rmse1"
   ]
  },
  {
   "cell_type": "code",
   "execution_count": 28,
   "id": "kPhbGoPGljZO",
   "metadata": {
    "colab": {
     "base_uri": "https://localhost:8080/"
    },
    "id": "kPhbGoPGljZO",
    "outputId": "bd9eac8e-2c0a-4cd8-b691-263801119724"
   },
   "outputs": [
    {
     "data": {
      "text/plain": [
       "-9.873426"
      ]
     },
     "execution_count": 28,
     "metadata": {},
     "output_type": "execute_result"
    }
   ],
   "source": [
    "nrmse1 = rmse1/(np.mean(inv_y_test))\n",
    "nrmse1"
   ]
  },
  {
   "cell_type": "code",
   "execution_count": 29,
   "id": "xhN7FJ6NnhtB",
   "metadata": {
    "id": "xhN7FJ6NnhtB"
   },
   "outputs": [],
   "source": [
    "r2_score1 = r2_score(inv_y_test, inv_y_pred)"
   ]
  },
  {
   "cell_type": "code",
   "execution_count": 30,
   "id": "OHyaoLUnP34Z",
   "metadata": {
    "colab": {
     "base_uri": "https://localhost:8080/",
     "height": 54
    },
    "id": "OHyaoLUnP34Z",
    "outputId": "91cbfe8f-bba9-4363-ec38-ba9d5b336692"
   },
   "outputs": [
    {
     "data": {
      "image/png": "[encoded data removed]",
      "text/plain": [
       "<Figure size 432x288 with 1 Axes>"
      ]
     },
     "metadata": {
      "needs_background": "light"
     },
     "output_type": "display_data"
    }
   ],
   "source": [
    "%matplotlib inline\n",
    "#plot \n",
    "plt.plot(inv_y_test, color='red')\n",
    "plt.plot(inv_y_pred)\n",
    "\n",
    "plt.legend(['y_test_inversed','y_test_pred_inveresed'])\n",
    "plt.show()"
   ]
  },
  {
   "cell_type": "markdown",
   "id": "a_mL5MSRXnOg",
   "metadata": {
    "id": "a_mL5MSRXnOg",
    "jp-MarkdownHeadingCollapsed": true,
    "tags": []
   },
   "source": [
    "## Model training based on 2 month lag data"
   ]
  },
  {
   "cell_type": "code",
   "execution_count": 31,
   "id": "ad520cc9",
   "metadata": {
    "id": "ad520cc9"
   },
   "outputs": [],
   "source": [
    "data = np.array(df2)\n",
    "target = data[:,-1] #assign last column to be target variable\n",
    "data = data[:,:-1] #dropping last column from features\n",
    "\n",
    "LEN_DATA = len(data) #total number of pixels\n",
    "NUM_TRAIN = LEN_DATA - (24+6) #reserve last 30 months for testing\n",
    "\n",
    "x_train = data[0:NUM_TRAIN]\n",
    "y_train = target[0:NUM_TRAIN]\n",
    "\n",
    "x_test = data[NUM_TRAIN:]\n",
    "y_test=target[NUM_TRAIN:]\n"
   ]
  },
  {
   "cell_type": "code",
   "execution_count": 32,
   "id": "UA8OLkOAoSx1",
   "metadata": {
    "colab": {
     "base_uri": "https://localhost:8080/"
    },
    "id": "UA8OLkOAoSx1",
    "outputId": "b09a5716-f165-4336-94bf-b7c32a8204fc"
   },
   "outputs": [
    {
     "name": "stdout",
     "output_type": "stream",
     "text": [
      "(87, 21)\n",
      "(87,)\n",
      "(30, 21)\n",
      "(30,)\n"
     ]
    }
   ],
   "source": [
    "#x_train, x_test, y_train, y_test = train_test_split(data,target,test_size=0.3,)\n",
    " \n",
    "print(x_train.shape)\n",
    "print(y_train.shape)\n",
    "print(x_test.shape)\n",
    "print(y_test.shape)\n"
   ]
  },
  {
   "cell_type": "code",
   "execution_count": 33,
   "id": "rAXnDTBLXyEi",
   "metadata": {
    "id": "rAXnDTBLXyEi"
   },
   "outputs": [],
   "source": [
    "from sklearn.preprocessing import MinMaxScaler, StandardScaler\n",
    " \n",
    "scaler_x = MinMaxScaler()\n",
    "x_train = scaler_x.fit_transform(x_train)\n",
    "x_test = scaler_x.transform(x_test)\n",
    " \n",
    "scaler_y = MinMaxScaler()\n",
    "y_train = scaler_y.fit_transform(y_train.reshape(-1,1))\n",
    "y_test = scaler_y.transform(y_test.reshape(-1,1))"
   ]
  },
  {
   "cell_type": "code",
   "execution_count": 34,
   "id": "_sdy60VnX_Ev",
   "metadata": {
    "colab": {
     "base_uri": "https://localhost:8080/"
    },
    "id": "_sdy60VnX_Ev",
    "outputId": "b23f4c97-a3bf-406a-a412-74b490ab9bbf"
   },
   "outputs": [
    {
     "data": {
      "text/plain": [
       "LinearRegression()"
      ]
     },
     "execution_count": 34,
     "metadata": {},
     "output_type": "execute_result"
    }
   ],
   "source": [
    "model = LinearRegression()\n",
    "model.fit(x_train, y_train) "
   ]
  },
  {
   "cell_type": "code",
   "execution_count": 35,
   "id": "3zAlxG47YB2H",
   "metadata": {
    "id": "3zAlxG47YB2H"
   },
   "outputs": [],
   "source": [
    "y_pred = model.predict(x_test)\n",
    "y_train_pred = model.predict(x_train)"
   ]
  },
  {
   "cell_type": "code",
   "execution_count": 36,
   "id": "5z5agfv4YH6o",
   "metadata": {
    "colab": {
     "base_uri": "https://localhost:8080/",
     "height": 54
    },
    "id": "5z5agfv4YH6o",
    "outputId": "efb2f6b9-1f92-48cc-945f-a32c6641396f"
   },
   "outputs": [
    {
     "data": {
      "image/png": "[encoded data removed]",
      "text/plain": [
       "<Figure size 432x288 with 1 Axes>"
      ]
     },
     "metadata": {
      "needs_background": "light"
     },
     "output_type": "display_data"
    }
   ],
   "source": [
    "%matplotlib inline\n",
    "#plot\n",
    "plt.plot(y_test, color='red')\n",
    "plt.plot(y_pred)\n",
    " \n",
    "plt.legend(['y_test','y_pred'])\n",
    "plt.show()"
   ]
  },
  {
   "cell_type": "code",
   "execution_count": 37,
   "id": "U9t54jpZYLYV",
   "metadata": {
    "colab": {
     "base_uri": "https://localhost:8080/",
     "height": 54
    },
    "id": "U9t54jpZYLYV",
    "outputId": "7eb2e4fb-5599-4d08-9703-e541a76aa1fb"
   },
   "outputs": [
    {
     "data": {
      "image/png": "[encoded data removed]",
      "text/plain": [
       "<Figure size 432x288 with 1 Axes>"
      ]
     },
     "metadata": {
      "needs_background": "light"
     },
     "output_type": "display_data"
    }
   ],
   "source": [
    "%matplotlib inline\n",
    "#plot\n",
    "plt.plot(y_train, color='red')\n",
    "plt.plot(y_train_pred)\n",
    " \n",
    "plt.legend(['y_train','y_train_pred'])\n",
    "plt.show()"
   ]
  },
  {
   "cell_type": "code",
   "execution_count": 38,
   "id": "TQ5UcMesYQ1f",
   "metadata": {
    "id": "TQ5UcMesYQ1f"
   },
   "outputs": [],
   "source": [
    "inv_y_train = scaler_y.inverse_transform(y_train)\n",
    "inv_y_test = scaler_y.inverse_transform(y_test)\n",
    "inv_y_pred = scaler_y.inverse_transform(y_pred)\n"
   ]
  },
  {
   "cell_type": "code",
   "execution_count": 39,
   "id": "E8KPEXAaRuBl",
   "metadata": {
    "id": "E8KPEXAaRuBl"
   },
   "outputs": [],
   "source": [
    "#Save Test data vs predictions\n",
    "from tempfile import TemporaryFile\n",
    "\n",
    "#test_data = np.concatenate((inv_y_valid.reshape(-1,1),inv_testPred.reshape(-1,1)), axis=1)\n",
    "np_file = TemporaryFile()\n",
    "np.save('MLR_lag2.npy', inv_y_pred)\n",
    "_ = np_file.seek(0)"
   ]
  },
  {
   "cell_type": "code",
   "execution_count": 40,
   "id": "o8s1tpiJYU3z",
   "metadata": {
    "id": "o8s1tpiJYU3z"
   },
   "outputs": [],
   "source": [
    "rmse2 = np.sqrt(np.mean((inv_y_pred - inv_y_test) ** 2))"
   ]
  },
  {
   "cell_type": "code",
   "execution_count": 41,
   "id": "-46PsBmilzaJ",
   "metadata": {
    "colab": {
     "base_uri": "https://localhost:8080/"
    },
    "id": "-46PsBmilzaJ",
    "outputId": "637399f2-204c-43a0-9f1d-be2f5fc40b9a"
   },
   "outputs": [
    {
     "data": {
      "text/plain": [
       "-13.926745"
      ]
     },
     "execution_count": 41,
     "metadata": {},
     "output_type": "execute_result"
    }
   ],
   "source": [
    "nrmse2 = rmse2/(np.mean(inv_y_test))\n",
    "nrmse2"
   ]
  },
  {
   "cell_type": "code",
   "execution_count": 42,
   "id": "nuwfY2CLnewR",
   "metadata": {
    "id": "nuwfY2CLnewR"
   },
   "outputs": [],
   "source": [
    "r2_score2 = r2_score(inv_y_test, inv_y_pred)"
   ]
  },
  {
   "cell_type": "code",
   "execution_count": 43,
   "id": "fZNSPb0FoYZn",
   "metadata": {
    "colab": {
     "base_uri": "https://localhost:8080/",
     "height": 54
    },
    "id": "fZNSPb0FoYZn",
    "outputId": "18e069f1-cbe7-4b67-af05-b4c4154dc660"
   },
   "outputs": [
    {
     "data": {
      "image/png": "[encoded data removed]",
      "text/plain": [
       "<Figure size 432x288 with 1 Axes>"
      ]
     },
     "metadata": {
      "needs_background": "light"
     },
     "output_type": "display_data"
    }
   ],
   "source": [
    "%matplotlib inline\n",
    "#plot\n",
    "plt.plot(inv_y_test, color='red')\n",
    "plt.plot(inv_y_pred)\n",
    " \n",
    "plt.legend(['y_test_inversed','y_test_pred_inveresed'])\n",
    "plt.show()\n"
   ]
  },
  {
   "cell_type": "markdown",
   "id": "e0ubsx1mtIHn",
   "metadata": {
    "id": "e0ubsx1mtIHn",
    "jp-MarkdownHeadingCollapsed": true,
    "tags": []
   },
   "source": [
    "## Model training based on 3 month lag data"
   ]
  },
  {
   "cell_type": "code",
   "execution_count": 44,
   "id": "D4qAXZ1nYwO4",
   "metadata": {
    "id": "D4qAXZ1nYwO4"
   },
   "outputs": [],
   "source": [
    "data = np.array(df3)\n",
    "target = data[:,-1] #assign last column to be target variable\n",
    "data = data[:,:-1] #dropping last column from features\n",
    "\n",
    "LEN_DATA = len(data) #total number of pixels\n",
    "NUM_TRAIN = LEN_DATA - (24+6) #reserve last 30 months for testing\n",
    "\n",
    "x_train = data[0:NUM_TRAIN]\n",
    "y_train = target[0:NUM_TRAIN]\n",
    "\n",
    "x_test = data[NUM_TRAIN:]\n",
    "y_test=target[NUM_TRAIN:]\n"
   ]
  },
  {
   "cell_type": "code",
   "execution_count": 45,
   "id": "bFHyiRmWYwO7",
   "metadata": {
    "colab": {
     "base_uri": "https://localhost:8080/"
    },
    "id": "bFHyiRmWYwO7",
    "outputId": "3169d6a6-9d96-4055-9244-ebbc5444b423"
   },
   "outputs": [
    {
     "name": "stdout",
     "output_type": "stream",
     "text": [
      "(86, 21)\n",
      "(86,)\n",
      "(30, 21)\n",
      "(30,)\n"
     ]
    }
   ],
   "source": [
    "#x_train, x_test, y_train, y_test = train_test_split(data,target,test_size=0.3,)\n",
    " \n",
    "print(x_train.shape)\n",
    "print(y_train.shape)\n",
    "print(x_test.shape)\n",
    "print(y_test.shape)\n"
   ]
  },
  {
   "cell_type": "code",
   "execution_count": 46,
   "id": "DiKvoZwlYwO8",
   "metadata": {
    "id": "DiKvoZwlYwO8"
   },
   "outputs": [],
   "source": [
    "from sklearn.preprocessing import MinMaxScaler, StandardScaler\n",
    " \n",
    "scaler_x = MinMaxScaler()\n",
    "x_train = scaler_x.fit_transform(x_train)\n",
    "x_test = scaler_x.transform(x_test)\n",
    " \n",
    "scaler_y = MinMaxScaler()\n",
    "y_train = scaler_y.fit_transform(y_train.reshape(-1,1))\n",
    "y_test = scaler_y.transform(y_test.reshape(-1,1))"
   ]
  },
  {
   "cell_type": "code",
   "execution_count": 47,
   "id": "tpmAHEppYwPA",
   "metadata": {
    "colab": {
     "base_uri": "https://localhost:8080/"
    },
    "id": "tpmAHEppYwPA",
    "outputId": "03e4bbb0-003d-4d6d-dd74-3d6aa4c11365"
   },
   "outputs": [
    {
     "data": {
      "text/plain": [
       "LinearRegression()"
      ]
     },
     "execution_count": 47,
     "metadata": {},
     "output_type": "execute_result"
    }
   ],
   "source": [
    "model = LinearRegression()\n",
    "model.fit(x_train, y_train)"
   ]
  },
  {
   "cell_type": "code",
   "execution_count": 48,
   "id": "OMCcwyBeYwPB",
   "metadata": {
    "id": "OMCcwyBeYwPB"
   },
   "outputs": [],
   "source": [
    "y_pred = model.predict(x_test)\n",
    "y_train_pred = model.predict(x_train)"
   ]
  },
  {
   "cell_type": "code",
   "execution_count": 49,
   "id": "v6ZOqtF7YwPC",
   "metadata": {
    "colab": {
     "base_uri": "https://localhost:8080/",
     "height": 54
    },
    "id": "v6ZOqtF7YwPC",
    "outputId": "03f6debd-d869-46bc-bb4e-842686d07846"
   },
   "outputs": [
    {
     "data": {
      "image/png": "[encoded data removed]",
      "text/plain": [
       "<Figure size 432x288 with 1 Axes>"
      ]
     },
     "metadata": {
      "needs_background": "light"
     },
     "output_type": "display_data"
    }
   ],
   "source": [
    "%matplotlib inline\n",
    "#plot\n",
    "plt.plot(y_test, color='red')\n",
    "plt.plot(y_pred)\n",
    " \n",
    "plt.legend(['y_test','y_pred'])\n",
    "plt.show()"
   ]
  },
  {
   "cell_type": "code",
   "execution_count": 50,
   "id": "KWA729YIYwPD",
   "metadata": {
    "colab": {
     "base_uri": "https://localhost:8080/",
     "height": 54
    },
    "id": "KWA729YIYwPD",
    "outputId": "6d7d21cf-8f17-43c2-8c9b-e60c66f47f6a"
   },
   "outputs": [
    {
     "data": {
      "image/png": "[encoded data removed]",
      "text/plain": [
       "<Figure size 432x288 with 1 Axes>"
      ]
     },
     "metadata": {
      "needs_background": "light"
     },
     "output_type": "display_data"
    }
   ],
   "source": [
    "%matplotlib inline\n",
    "#plot\n",
    "plt.plot(y_train, color='red')\n",
    "plt.plot(y_train_pred)\n",
    " \n",
    "plt.legend(['y_train','y_train_pred'])\n",
    "plt.show()"
   ]
  },
  {
   "cell_type": "code",
   "execution_count": 51,
   "id": "aROzrfpuYwPE",
   "metadata": {
    "colab": {
     "base_uri": "https://localhost:8080/"
    },
    "id": "aROzrfpuYwPE",
    "outputId": "9577d018-332a-4b9c-8502-0e6c316c269e"
   },
   "outputs": [
    {
     "name": "stdout",
     "output_type": "stream",
     "text": [
      "[0.11773515]\n",
      "[-168.7201]\n"
     ]
    }
   ],
   "source": [
    "inv_y_train = scaler_y.inverse_transform(y_train)\n",
    "inv_y_test = scaler_y.inverse_transform(y_test)\n",
    "inv_y_pred = scaler_y.inverse_transform(y_pred)\n",
    " \n",
    "print(y_train[1]) #print out the scaled value\n",
    "print(inv_y_train[1]) #print out the inverted/original value"
   ]
  },
  {
   "cell_type": "code",
   "execution_count": 52,
   "id": "G4XuRMuiRqmq",
   "metadata": {
    "id": "G4XuRMuiRqmq"
   },
   "outputs": [],
   "source": [
    "#Save Test data vs predictions\n",
    "from tempfile import TemporaryFile\n",
    "\n",
    "np_file = TemporaryFile()\n",
    "np.save('MLR_lag3.npy', inv_y_pred)\n",
    "_ = np_file.seek(0)"
   ]
  },
  {
   "cell_type": "code",
   "execution_count": 53,
   "id": "LAZtqKO9YwPF",
   "metadata": {
    "colab": {
     "base_uri": "https://localhost:8080/"
    },
    "id": "LAZtqKO9YwPF",
    "outputId": "aca2bf38-772d-48b6-d633-515a68be1346"
   },
   "outputs": [
    {
     "data": {
      "text/plain": [
       "91.29984"
      ]
     },
     "execution_count": 53,
     "metadata": {},
     "output_type": "execute_result"
    }
   ],
   "source": [
    "rmse3 = np.sqrt(np.mean((inv_y_pred - inv_y_test) ** 2))\n",
    "rmse3"
   ]
  },
  {
   "cell_type": "code",
   "execution_count": 54,
   "id": "H-8uiwTTl4YL",
   "metadata": {
    "colab": {
     "base_uri": "https://localhost:8080/"
    },
    "id": "H-8uiwTTl4YL",
    "outputId": "30a67611-6aa0-432f-cc17-8539fe15ffb2"
   },
   "outputs": [
    {
     "data": {
      "text/plain": [
       "-4.570557"
      ]
     },
     "execution_count": 54,
     "metadata": {},
     "output_type": "execute_result"
    }
   ],
   "source": [
    "nrmse3 = rmse3/(np.mean(inv_y_test))\n",
    "nrmse3"
   ]
  },
  {
   "cell_type": "code",
   "execution_count": 55,
   "id": "JgpwZ5jJncIW",
   "metadata": {
    "id": "JgpwZ5jJncIW"
   },
   "outputs": [],
   "source": [
    "r2_score3 = r2_score(inv_y_test, inv_y_pred)"
   ]
  },
  {
   "cell_type": "code",
   "execution_count": 56,
   "id": "4-k8gxbPYwPG",
   "metadata": {
    "colab": {
     "base_uri": "https://localhost:8080/",
     "height": 54
    },
    "id": "4-k8gxbPYwPG",
    "outputId": "a958c226-6fa0-4bc1-af29-7103a60fb9ef"
   },
   "outputs": [
    {
     "data": {
      "image/png": "[encoded data removed]",
      "text/plain": [
       "<Figure size 432x288 with 1 Axes>"
      ]
     },
     "metadata": {
      "needs_background": "light"
     },
     "output_type": "display_data"
    }
   ],
   "source": [
    "%matplotlib inline\n",
    "#plot\n",
    "plt.plot(inv_y_test, color='red')\n",
    "plt.plot(inv_y_pred)\n",
    " \n",
    "plt.legend(['y_test_inversed','y_test_pred_inveresed'])\n",
    "plt.show()\n"
   ]
  },
  {
   "cell_type": "markdown",
   "id": "3Ja5CZCGtNrz",
   "metadata": {
    "id": "3Ja5CZCGtNrz",
    "jp-MarkdownHeadingCollapsed": true,
    "tags": []
   },
   "source": [
    "## Model training based on 4 month lag data:"
   ]
  },
  {
   "cell_type": "code",
   "execution_count": 57,
   "id": "u7ECD10xZLF6",
   "metadata": {
    "id": "u7ECD10xZLF6"
   },
   "outputs": [],
   "source": [
    "data = np.array(df4)\n",
    "target = data[:,-1] #assign last column to be target variable\n",
    "data = data[:,:-1] #dropping last column from features\n",
    "\n",
    "LEN_DATA = len(data) #total number of pixels\n",
    "NUM_TRAIN = LEN_DATA - (24+6) #reserve last 30 months for testing\n",
    "\n",
    "x_train = data[0:NUM_TRAIN]\n",
    "y_train = target[0:NUM_TRAIN]\n",
    "\n",
    "x_test = data[NUM_TRAIN:]\n",
    "y_test=target[NUM_TRAIN:]\n"
   ]
  },
  {
   "cell_type": "code",
   "execution_count": 58,
   "id": "7jhCfVXDZLF8",
   "metadata": {
    "colab": {
     "base_uri": "https://localhost:8080/"
    },
    "id": "7jhCfVXDZLF8",
    "outputId": "fe9c3d7e-1c8d-4f6e-d579-593a5eea1653"
   },
   "outputs": [
    {
     "name": "stdout",
     "output_type": "stream",
     "text": [
      "(85, 21)\n",
      "(85,)\n",
      "(30, 21)\n",
      "(30,)\n"
     ]
    }
   ],
   "source": [
    "#x_train, x_test, y_train, y_test = train_test_split(data,target,test_size=0.3,)\n",
    " \n",
    "print(x_train.shape)\n",
    "print(y_train.shape)\n",
    "print(x_test.shape)\n",
    "print(y_test.shape)\n"
   ]
  },
  {
   "cell_type": "code",
   "execution_count": 59,
   "id": "sCkWR3-OZLF_",
   "metadata": {
    "id": "sCkWR3-OZLF_"
   },
   "outputs": [],
   "source": [
    "from sklearn.preprocessing import MinMaxScaler, StandardScaler\n",
    " \n",
    "scaler_x = MinMaxScaler()\n",
    "x_train = scaler_x.fit_transform(x_train)\n",
    "x_test = scaler_x.transform(x_test)\n",
    " \n",
    "scaler_y = MinMaxScaler()\n",
    "y_train = scaler_y.fit_transform(y_train.reshape(-1,1))\n",
    "y_test = scaler_y.transform(y_test.reshape(-1,1))"
   ]
  },
  {
   "cell_type": "code",
   "execution_count": 60,
   "id": "8rdKRCyKZLGC",
   "metadata": {
    "colab": {
     "base_uri": "https://localhost:8080/"
    },
    "id": "8rdKRCyKZLGC",
    "outputId": "f8d0f072-5deb-457e-a02c-549dcf301a8e"
   },
   "outputs": [
    {
     "data": {
      "text/plain": [
       "LinearRegression()"
      ]
     },
     "execution_count": 60,
     "metadata": {},
     "output_type": "execute_result"
    }
   ],
   "source": [
    "model = LinearRegression()\n",
    "model.fit(x_train, y_train)"
   ]
  },
  {
   "cell_type": "code",
   "execution_count": 61,
   "id": "XlfqV__7ZLGD",
   "metadata": {
    "id": "XlfqV__7ZLGD"
   },
   "outputs": [],
   "source": [
    "y_pred = model.predict(x_test)\n",
    "y_train_pred = model.predict(x_train)"
   ]
  },
  {
   "cell_type": "code",
   "execution_count": 62,
   "id": "um2qv0pAZLGG",
   "metadata": {
    "colab": {
     "base_uri": "https://localhost:8080/",
     "height": 54
    },
    "id": "um2qv0pAZLGG",
    "outputId": "69d0e211-994e-456d-bdde-8b6c12605933"
   },
   "outputs": [
    {
     "data": {
      "image/png": "[encoded data removed]",
      "text/plain": [
       "<Figure size 432x288 with 1 Axes>"
      ]
     },
     "metadata": {
      "needs_background": "light"
     },
     "output_type": "display_data"
    }
   ],
   "source": [
    "%matplotlib inline\n",
    "#plot\n",
    "plt.plot(y_test, color='red')\n",
    "plt.plot(y_pred)\n",
    " \n",
    "plt.legend(['y_test','y_pred'])\n",
    "plt.show()"
   ]
  },
  {
   "cell_type": "code",
   "execution_count": 63,
   "id": "SJgCPSdcZLGH",
   "metadata": {
    "colab": {
     "base_uri": "https://localhost:8080/",
     "height": 54
    },
    "id": "SJgCPSdcZLGH",
    "outputId": "ea689883-cbbb-407e-8e15-b1f179552941"
   },
   "outputs": [
    {
     "data": {
      "image/png": "[encoded data removed]",
      "text/plain": [
       "<Figure size 432x288 with 1 Axes>"
      ]
     },
     "metadata": {
      "needs_background": "light"
     },
     "output_type": "display_data"
    }
   ],
   "source": [
    "%matplotlib inline\n",
    "#plot\n",
    "plt.plot(y_train, color='red')\n",
    "plt.plot(y_train_pred)\n",
    " \n",
    "plt.legend(['y_train','y_train_pred'])\n",
    "plt.show()"
   ]
  },
  {
   "cell_type": "code",
   "execution_count": 64,
   "id": "aOr6gTizZLGJ",
   "metadata": {
    "id": "aOr6gTizZLGJ"
   },
   "outputs": [],
   "source": [
    "inv_y_train = scaler_y.inverse_transform(y_train)\n",
    "inv_y_test = scaler_y.inverse_transform(y_test)\n",
    "inv_y_pred = scaler_y.inverse_transform(y_pred)\n"
   ]
  },
  {
   "cell_type": "code",
   "execution_count": 65,
   "id": "PSqv7R5RRh1r",
   "metadata": {
    "id": "PSqv7R5RRh1r"
   },
   "outputs": [],
   "source": [
    "#Save Test data vs predictions\n",
    "from tempfile import TemporaryFile\n",
    "\n",
    "#test_data = np.concatenate((inv_y_valid.reshape(-1,1),inv_testPred.reshape(-1,1)), axis=1)\n",
    "np_file = TemporaryFile()\n",
    "np.save('MLR_lag4.npy', inv_y_pred)\n",
    "_ = np_file.seek(0)"
   ]
  },
  {
   "cell_type": "code",
   "execution_count": 66,
   "id": "uEsej7boZLGK",
   "metadata": {
    "colab": {
     "base_uri": "https://localhost:8080/"
    },
    "id": "uEsej7boZLGK",
    "outputId": "bae579ab-aa3e-456d-84cf-3797f96ed37e"
   },
   "outputs": [
    {
     "data": {
      "text/plain": [
       "107.61852"
      ]
     },
     "execution_count": 66,
     "metadata": {},
     "output_type": "execute_result"
    }
   ],
   "source": [
    "rmse4 = np.sqrt(np.mean((inv_y_pred - inv_y_test) ** 2))\n",
    "rmse4"
   ]
  },
  {
   "cell_type": "code",
   "execution_count": 67,
   "id": "deCMUaBSl9Pa",
   "metadata": {
    "colab": {
     "base_uri": "https://localhost:8080/"
    },
    "id": "deCMUaBSl9Pa",
    "outputId": "11e0897c-c4a2-49a9-e544-b7f4bc16a14b"
   },
   "outputs": [
    {
     "data": {
      "text/plain": [
       "-5.3874855"
      ]
     },
     "execution_count": 67,
     "metadata": {},
     "output_type": "execute_result"
    }
   ],
   "source": [
    "nrmse4 = rmse4/(np.mean(inv_y_test))\n",
    "nrmse4"
   ]
  },
  {
   "cell_type": "code",
   "execution_count": 68,
   "id": "HKsjBL_inYVi",
   "metadata": {
    "id": "HKsjBL_inYVi"
   },
   "outputs": [],
   "source": [
    "r2_score4 = r2_score(inv_y_test, inv_y_pred)"
   ]
  },
  {
   "cell_type": "code",
   "execution_count": 69,
   "id": "WZb69VtNZLGQ",
   "metadata": {
    "colab": {
     "base_uri": "https://localhost:8080/",
     "height": 54
    },
    "id": "WZb69VtNZLGQ",
    "outputId": "2e621bbd-0400-4d9a-a49f-44c9e5e518a5"
   },
   "outputs": [
    {
     "data": {
      "image/png": "[encoded data removed]",
      "text/plain": [
       "<Figure size 432x288 with 1 Axes>"
      ]
     },
     "metadata": {
      "needs_background": "light"
     },
     "output_type": "display_data"
    }
   ],
   "source": [
    "%matplotlib inline\n",
    "#plot\n",
    "plt.plot(inv_y_test, color='red')\n",
    "plt.plot(inv_y_pred)\n",
    " \n",
    "plt.legend(['y_test_inversed','y_test_pred_inveresed'])\n",
    "plt.show()\n"
   ]
  },
  {
   "cell_type": "markdown",
   "id": "YPhZ2DmZtSB9",
   "metadata": {
    "id": "YPhZ2DmZtSB9",
    "jp-MarkdownHeadingCollapsed": true,
    "tags": []
   },
   "source": [
    "## Model training based on 5 month lag data:"
   ]
  },
  {
   "cell_type": "code",
   "execution_count": 70,
   "id": "uUbj-oqCZRFo",
   "metadata": {
    "id": "uUbj-oqCZRFo"
   },
   "outputs": [],
   "source": [
    "data = np.array(df5)\n",
    "target = data[:,-1] #assign last column to be target variable\n",
    "data = data[:,:-1] #dropping last column from features\n",
    "\n",
    "LEN_DATA = len(data) #total number of pixels\n",
    "NUM_TRAIN = LEN_DATA - (24+6) #reserve last 30 months for testing\n",
    "\n",
    "x_train = data[0:NUM_TRAIN]\n",
    "y_train = target[0:NUM_TRAIN]\n",
    "\n",
    "x_test = data[NUM_TRAIN:]\n",
    "y_test=target[NUM_TRAIN:]\n"
   ]
  },
  {
   "cell_type": "code",
   "execution_count": 71,
   "id": "ixB8FyxUZRFr",
   "metadata": {
    "colab": {
     "base_uri": "https://localhost:8080/"
    },
    "id": "ixB8FyxUZRFr",
    "outputId": "361645f5-43f6-4867-f76a-b6e66deee2a5"
   },
   "outputs": [
    {
     "name": "stdout",
     "output_type": "stream",
     "text": [
      "(84, 21)\n",
      "(84,)\n",
      "(30, 21)\n",
      "(30,)\n"
     ]
    }
   ],
   "source": [
    "#x_train, x_test, y_train, y_test = train_test_split(data,target,test_size=0.3,)\n",
    " \n",
    "print(x_train.shape)\n",
    "print(y_train.shape)\n",
    "print(x_test.shape)\n",
    "print(y_test.shape)\n"
   ]
  },
  {
   "cell_type": "code",
   "execution_count": 72,
   "id": "31MpZC0tZRFv",
   "metadata": {
    "id": "31MpZC0tZRFv"
   },
   "outputs": [],
   "source": [
    "from sklearn.preprocessing import MinMaxScaler, StandardScaler\n",
    " \n",
    "scaler_x = MinMaxScaler()\n",
    "x_train = scaler_x.fit_transform(x_train)\n",
    "x_test = scaler_x.transform(x_test)\n",
    " \n",
    "scaler_y = MinMaxScaler()\n",
    "y_train = scaler_y.fit_transform(y_train.reshape(-1,1))\n",
    "y_test = scaler_y.transform(y_test.reshape(-1,1))"
   ]
  },
  {
   "cell_type": "code",
   "execution_count": 73,
   "id": "ZJjeGDqDZRF0",
   "metadata": {
    "colab": {
     "base_uri": "https://localhost:8080/"
    },
    "id": "ZJjeGDqDZRF0",
    "outputId": "a2915dcd-d3ec-4df6-b77a-e675e17d5bbb"
   },
   "outputs": [
    {
     "data": {
      "text/plain": [
       "LinearRegression()"
      ]
     },
     "execution_count": 73,
     "metadata": {},
     "output_type": "execute_result"
    }
   ],
   "source": [
    "model = LinearRegression()\n",
    "model.fit(x_train, y_train)"
   ]
  },
  {
   "cell_type": "code",
   "execution_count": 74,
   "id": "4VfaPHb9ZRF1",
   "metadata": {
    "id": "4VfaPHb9ZRF1"
   },
   "outputs": [],
   "source": [
    "y_pred = model.predict(x_test)\n",
    "y_train_pred = model.predict(x_train)"
   ]
  },
  {
   "cell_type": "code",
   "execution_count": 75,
   "id": "HslzvfxRZRF4",
   "metadata": {
    "colab": {
     "base_uri": "https://localhost:8080/",
     "height": 265
    },
    "id": "HslzvfxRZRF4",
    "outputId": "233a69a8-6a3e-40c8-f861-06a4fcb617d8"
   },
   "outputs": [
    {
     "data": {
      "image/png": "[encoded data removed]",
      "text/plain": [
       "<Figure size 432x288 with 1 Axes>"
      ]
     },
     "metadata": {
      "needs_background": "light"
     },
     "output_type": "display_data"
    }
   ],
   "source": [
    "%matplotlib inline\n",
    "#plot\n",
    "plt.plot(y_test, color='red')\n",
    "plt.plot(y_pred)\n",
    " \n",
    "plt.legend(['y_test','y_pred'])\n",
    "plt.show()"
   ]
  },
  {
   "cell_type": "code",
   "execution_count": 76,
   "id": "XVz1ExgGZRF4",
   "metadata": {
    "colab": {
     "base_uri": "https://localhost:8080/",
     "height": 54
    },
    "id": "XVz1ExgGZRF4",
    "outputId": "53743ee1-a715-4dd7-c25a-7dddf5334541"
   },
   "outputs": [
    {
     "data": {
      "image/png": "[encoded data removed]",
      "text/plain": [
       "<Figure size 432x288 with 1 Axes>"
      ]
     },
     "metadata": {
      "needs_background": "light"
     },
     "output_type": "display_data"
    }
   ],
   "source": [
    "%matplotlib inline\n",
    "#plot\n",
    "plt.plot(y_train, color='red')\n",
    "plt.plot(y_train_pred)\n",
    " \n",
    "plt.legend(['y_train','y_train_pred'])\n",
    "plt.show()"
   ]
  },
  {
   "cell_type": "code",
   "execution_count": 77,
   "id": "tZub4vkqZRF7",
   "metadata": {
    "colab": {
     "base_uri": "https://localhost:8080/"
    },
    "id": "tZub4vkqZRF7",
    "outputId": "62c2e520-4fb6-473e-8616-94c253749506"
   },
   "outputs": [
    {
     "name": "stdout",
     "output_type": "stream",
     "text": [
      "[0.06507087]\n",
      "[-175.6053]\n"
     ]
    }
   ],
   "source": [
    "inv_y_train = scaler_y.inverse_transform(y_train)\n",
    "inv_y_test = scaler_y.inverse_transform(y_test)\n",
    "inv_y_pred = scaler_y.inverse_transform(y_pred)\n",
    " \n",
    "print(y_train[1]) #print out the scaled value\n",
    "print(inv_y_train[1]) #print out the inverted/original value"
   ]
  },
  {
   "cell_type": "code",
   "execution_count": 78,
   "id": "YQOaWOA2RaVS",
   "metadata": {
    "id": "YQOaWOA2RaVS"
   },
   "outputs": [],
   "source": [
    "#Save Test data vs predictions\n",
    "from tempfile import TemporaryFile\n",
    "\n",
    "#test_data = np.concatenate((inv_y_valid.reshape(-1,1),inv_testPred.reshape(-1,1)), axis=1)\n",
    "np_file = TemporaryFile()\n",
    "np.save('MLR_lag5.npy', inv_y_pred)\n",
    "_ = np_file.seek(0)"
   ]
  },
  {
   "cell_type": "code",
   "execution_count": 79,
   "id": "KPJbP0HVZRF7",
   "metadata": {
    "colab": {
     "base_uri": "https://localhost:8080/"
    },
    "id": "KPJbP0HVZRF7",
    "outputId": "26ed143c-5517-4d40-d1d8-6926f8677856"
   },
   "outputs": [
    {
     "data": {
      "text/plain": [
       "25.18915"
      ]
     },
     "execution_count": 79,
     "metadata": {},
     "output_type": "execute_result"
    }
   ],
   "source": [
    "rmse5 = np.sqrt(np.mean((inv_y_pred - inv_y_test) ** 2))\n",
    "rmse5"
   ]
  },
  {
   "cell_type": "code",
   "execution_count": 80,
   "id": "hDdoN2Y_mBhx",
   "metadata": {
    "colab": {
     "base_uri": "https://localhost:8080/"
    },
    "id": "hDdoN2Y_mBhx",
    "outputId": "1d85a877-0788-42d9-ad70-4355b11b9b22"
   },
   "outputs": [
    {
     "data": {
      "text/plain": [
       "-1.2609928"
      ]
     },
     "execution_count": 80,
     "metadata": {},
     "output_type": "execute_result"
    }
   ],
   "source": [
    "nrmse5 = rmse5/(np.mean(inv_y_test))\n",
    "nrmse5"
   ]
  },
  {
   "cell_type": "code",
   "execution_count": 81,
   "id": "0XidlmLhnS1J",
   "metadata": {
    "id": "0XidlmLhnS1J"
   },
   "outputs": [],
   "source": [
    "r2_score5 = r2_score(inv_y_test, inv_y_pred)"
   ]
  },
  {
   "cell_type": "code",
   "execution_count": 82,
   "id": "SPoIo2kXZRF9",
   "metadata": {
    "colab": {
     "base_uri": "https://localhost:8080/",
     "height": 54
    },
    "id": "SPoIo2kXZRF9",
    "outputId": "35001563-231a-480d-cb4a-e134ac8f7234"
   },
   "outputs": [
    {
     "data": {
      "image/png": "[encoded data removed]",
      "text/plain": [
       "<Figure size 432x288 with 1 Axes>"
      ]
     },
     "metadata": {
      "needs_background": "light"
     },
     "output_type": "display_data"
    }
   ],
   "source": [
    "%matplotlib inline\n",
    "#plot\n",
    "plt.plot(inv_y_test, color='red')\n",
    "plt.plot(inv_y_pred)\n",
    " \n",
    "plt.legend(['y_test_inversed','y_test_pred_inveresed'])\n",
    "plt.show()\n"
   ]
  },
  {
   "cell_type": "markdown",
   "id": "NPNAQizNtUtQ",
   "metadata": {
    "id": "NPNAQizNtUtQ",
    "jp-MarkdownHeadingCollapsed": true,
    "tags": []
   },
   "source": [
    "## Model training based on 6 month lag data:"
   ]
  },
  {
   "cell_type": "code",
   "execution_count": 83,
   "id": "mUp_3GA6ZYIo",
   "metadata": {
    "id": "mUp_3GA6ZYIo"
   },
   "outputs": [],
   "source": [
    "data = np.array(df6)\n",
    "target = data[:,-1] #assign last column to be target variable\n",
    "data = data[:,:-1] #dropping last column from features\n",
    "\n",
    "LEN_DATA = len(data) #total number of pixels\n",
    "NUM_TRAIN = LEN_DATA - (24+6) #reserve last 30 months for testing\n",
    "\n",
    "x_train = data[0:NUM_TRAIN]\n",
    "y_train = target[0:NUM_TRAIN]\n",
    "\n",
    "x_test = data[NUM_TRAIN:]\n",
    "y_test=target[NUM_TRAIN:]\n"
   ]
  },
  {
   "cell_type": "code",
   "execution_count": 84,
   "id": "ad0bKsvYZYIr",
   "metadata": {
    "colab": {
     "base_uri": "https://localhost:8080/"
    },
    "id": "ad0bKsvYZYIr",
    "outputId": "5f58d3f5-ca8e-4e4b-ad41-0c591d257da2"
   },
   "outputs": [
    {
     "name": "stdout",
     "output_type": "stream",
     "text": [
      "(83, 21)\n",
      "(83,)\n",
      "(30, 21)\n",
      "(30,)\n"
     ]
    }
   ],
   "source": [
    "#x_train, x_test, y_train, y_test = train_test_split(data,target,test_size=0.3,)\n",
    " \n",
    "print(x_train.shape)\n",
    "print(y_train.shape)\n",
    "print(x_test.shape)\n",
    "print(y_test.shape)\n"
   ]
  },
  {
   "cell_type": "code",
   "execution_count": 85,
   "id": "MnjnbGNiZYIs",
   "metadata": {
    "id": "MnjnbGNiZYIs"
   },
   "outputs": [],
   "source": [
    "from sklearn.preprocessing import MinMaxScaler, StandardScaler\n",
    " \n",
    "scaler_x = MinMaxScaler()\n",
    "x_train = scaler_x.fit_transform(x_train)\n",
    "x_test = scaler_x.transform(x_test)\n",
    " \n",
    "scaler_y = MinMaxScaler()\n",
    "y_train = scaler_y.fit_transform(y_train.reshape(-1,1))\n",
    "y_test = scaler_y.transform(y_test.reshape(-1,1))"
   ]
  },
  {
   "cell_type": "code",
   "execution_count": 86,
   "id": "92E_5PeDZYIu",
   "metadata": {
    "colab": {
     "base_uri": "https://localhost:8080/"
    },
    "id": "92E_5PeDZYIu",
    "outputId": "d98c2b3e-0770-46df-cae3-bd01c1f1bd1e"
   },
   "outputs": [
    {
     "data": {
      "text/plain": [
       "LinearRegression()"
      ]
     },
     "execution_count": 86,
     "metadata": {},
     "output_type": "execute_result"
    }
   ],
   "source": [
    "model = LinearRegression()\n",
    "model.fit(x_train, y_train)"
   ]
  },
  {
   "cell_type": "code",
   "execution_count": 87,
   "id": "rG27VBvyZYIw",
   "metadata": {
    "id": "rG27VBvyZYIw"
   },
   "outputs": [],
   "source": [
    "y_pred = model.predict(x_test)\n",
    "y_train_pred = model.predict(x_train)"
   ]
  },
  {
   "cell_type": "code",
   "execution_count": 88,
   "id": "3WSEEkmiZYIw",
   "metadata": {
    "colab": {
     "base_uri": "https://localhost:8080/",
     "height": 54
    },
    "id": "3WSEEkmiZYIw",
    "outputId": "4ce1ebda-e291-4aad-de1c-69ccfc24fa31"
   },
   "outputs": [
    {
     "data": {
      "image/png": "[encoded data removed]",
      "text/plain": [
       "<Figure size 432x288 with 1 Axes>"
      ]
     },
     "metadata": {
      "needs_background": "light"
     },
     "output_type": "display_data"
    }
   ],
   "source": [
    "%matplotlib inline\n",
    "#plot\n",
    "plt.plot(y_test, color='red')\n",
    "plt.plot(y_pred)\n",
    " \n",
    "plt.legend(['y_test','y_pred'])\n",
    "plt.show()"
   ]
  },
  {
   "cell_type": "code",
   "execution_count": 89,
   "id": "VVK1mRqCZYIx",
   "metadata": {
    "colab": {
     "base_uri": "https://localhost:8080/",
     "height": 54
    },
    "id": "VVK1mRqCZYIx",
    "outputId": "823d83bf-ade6-422b-f734-b4f49b9c136e"
   },
   "outputs": [
    {
     "data": {
      "image/png": "[encoded data removed]",
      "text/plain": [
       "<Figure size 432x288 with 1 Axes>"
      ]
     },
     "metadata": {
      "needs_background": "light"
     },
     "output_type": "display_data"
    }
   ],
   "source": [
    "%matplotlib inline\n",
    "#plot\n",
    "plt.plot(y_train, color='red')\n",
    "plt.plot(y_train_pred)\n",
    " \n",
    "plt.legend(['y_train','y_train_pred'])\n",
    "plt.show()"
   ]
  },
  {
   "cell_type": "code",
   "execution_count": 90,
   "id": "1sbP8f1nZYIx",
   "metadata": {
    "colab": {
     "base_uri": "https://localhost:8080/"
    },
    "id": "1sbP8f1nZYIx",
    "outputId": "0c53b00f-60fb-4318-9b58-9a43aeffa585"
   },
   "outputs": [
    {
     "name": "stdout",
     "output_type": "stream",
     "text": [
      "[0.11353517]\n",
      "[-169.2692]\n"
     ]
    }
   ],
   "source": [
    "inv_y_train = scaler_y.inverse_transform(y_train)\n",
    "inv_y_test = scaler_y.inverse_transform(y_test)\n",
    "inv_y_pred = scaler_y.inverse_transform(y_pred)\n",
    " \n",
    "print(y_train[1]) #print out the scaled value\n",
    "print(inv_y_train[1]) #print out the inverted/original value"
   ]
  },
  {
   "cell_type": "code",
   "execution_count": 91,
   "id": "88IpOri-RFRc",
   "metadata": {
    "id": "88IpOri-RFRc"
   },
   "outputs": [],
   "source": [
    "#Save Test data vs predictions\n",
    "from tempfile import TemporaryFile\n",
    "\n",
    "#test_data = np.concatenate((inv_y_valid.reshape(-1,1),inv_testPred.reshape(-1,1)), axis=1)\n",
    "np_file = TemporaryFile()\n",
    "np.save('MLR_lag6.npy', inv_y_pred)\n",
    "_ = np_file.seek(0)"
   ]
  },
  {
   "cell_type": "code",
   "execution_count": 92,
   "id": "cfAALwHGZYIy",
   "metadata": {
    "colab": {
     "base_uri": "https://localhost:8080/"
    },
    "id": "cfAALwHGZYIy",
    "outputId": "9ccffee9-e49c-4621-9953-ff0c295faf30"
   },
   "outputs": [
    {
     "data": {
      "text/plain": [
       "192.87285"
      ]
     },
     "execution_count": 92,
     "metadata": {},
     "output_type": "execute_result"
    }
   ],
   "source": [
    "rmse6 = np.sqrt(np.mean((inv_y_pred - inv_y_test) ** 2))\n",
    "rmse6"
   ]
  },
  {
   "cell_type": "code",
   "execution_count": 93,
   "id": "0tb9TD0DmG_E",
   "metadata": {
    "colab": {
     "base_uri": "https://localhost:8080/"
    },
    "id": "0tb9TD0DmG_E",
    "outputId": "f2ff091b-ca40-47ca-b8d6-0a5f42e0b244"
   },
   "outputs": [
    {
     "data": {
      "text/plain": [
       "-9.655398"
      ]
     },
     "execution_count": 93,
     "metadata": {},
     "output_type": "execute_result"
    }
   ],
   "source": [
    "nrmse6 = rmse6/(np.mean(inv_y_test))\n",
    "nrmse6"
   ]
  },
  {
   "cell_type": "code",
   "execution_count": 94,
   "id": "Aq3jDszYmtDo",
   "metadata": {
    "id": "Aq3jDszYmtDo"
   },
   "outputs": [],
   "source": [
    "r2_score6 = r2_score(inv_y_test, inv_y_pred)"
   ]
  },
  {
   "cell_type": "code",
   "execution_count": 95,
   "id": "krFVGL5BZYIy",
   "metadata": {
    "colab": {
     "base_uri": "https://localhost:8080/",
     "height": 276
    },
    "id": "krFVGL5BZYIy",
    "outputId": "3c8da3f7-0303-4ddc-becd-f51a730e143c"
   },
   "outputs": [
    {
     "data": {
      "image/png": "[encoded data removed]",
      "text/plain": [
       "<Figure size 432x288 with 1 Axes>"
      ]
     },
     "metadata": {
      "needs_background": "light"
     },
     "output_type": "display_data"
    }
   ],
   "source": [
    "%matplotlib inline\n",
    "#plot\n",
    "plt.plot(inv_y_test, color='red')\n",
    "plt.plot(inv_y_pred)\n",
    " \n",
    "plt.legend(['y_test_inversed','y_test_pred_inveresed'])\n",
    "plt.show()\n"
   ]
  },
  {
   "cell_type": "markdown",
   "id": "5a33e72f-fd38-4b26-86a6-dd1fabb19584",
   "metadata": {
    "jp-MarkdownHeadingCollapsed": true,
    "tags": []
   },
   "source": [
    "## Model performance comparison"
   ]
  },
  {
   "cell_type": "code",
   "execution_count": 96,
   "id": "2Rpd5sC6MnUa",
   "metadata": {
    "colab": {
     "base_uri": "https://localhost:8080/"
    },
    "id": "2Rpd5sC6MnUa",
    "outputId": "92a52d4f-1cca-4406-a3c4-ea70a39443aa"
   },
   "outputs": [
    {
     "name": "stdout",
     "output_type": "stream",
     "text": [
      "197.2281 278.19577 91.29984 107.61852 25.18915 192.87285\n"
     ]
    }
   ],
   "source": [
    "print(rmse1, rmse2, rmse3, rmse4, rmse5, rmse6)"
   ]
  },
  {
   "cell_type": "code",
   "execution_count": 97,
   "id": "hsstT6xxNN7c",
   "metadata": {
    "colab": {
     "base_uri": "https://localhost:8080/"
    },
    "id": "hsstT6xxNN7c",
    "outputId": "dd1400c8-1d10-4804-dbdf-ed0d30b5abfa"
   },
   "outputs": [
    {
     "data": {
      "text/plain": [
       "[197.2281, 278.19577, 91.29984, 107.61852, 25.18915, 192.87285]"
      ]
     },
     "execution_count": 97,
     "metadata": {},
     "output_type": "execute_result"
    }
   ],
   "source": [
    "rmse = [rmse1, rmse2, rmse3, rmse4, rmse5, rmse6]\n",
    "rmse"
   ]
  },
  {
   "cell_type": "code",
   "execution_count": 98,
   "id": "MS2VO78OmuP2",
   "metadata": {
    "colab": {
     "base_uri": "https://localhost:8080/"
    },
    "id": "MS2VO78OmuP2",
    "outputId": "ed20d458-d16a-4164-ae07-78517c0f7bf9"
   },
   "outputs": [
    {
     "data": {
      "text/plain": [
       "[-9.873426, -13.926745, -4.570557, -5.3874855, -1.2609928, -9.655398]"
      ]
     },
     "execution_count": 98,
     "metadata": {},
     "output_type": "execute_result"
    }
   ],
   "source": [
    "nrmse = [nrmse1, nrmse2, nrmse3, nrmse4, nrmse5, nrmse6]\n",
    "nrmse"
   ]
  },
  {
   "cell_type": "code",
   "execution_count": 99,
   "id": "xLCK7iaFnBgY",
   "metadata": {
    "colab": {
     "base_uri": "https://localhost:8080/"
    },
    "id": "xLCK7iaFnBgY",
    "outputId": "6614c82b-8900-4634-92e2-ab269147f41b"
   },
   "outputs": [
    {
     "data": {
      "text/plain": [
       "[-48.805371907537165,\n",
       " -98.09225176913446,\n",
       " -9.672807294663253,\n",
       " -13.829028059112796,\n",
       " 0.1876078956600905,\n",
       " -46.63002987439784]"
      ]
     },
     "execution_count": 99,
     "metadata": {},
     "output_type": "execute_result"
    }
   ],
   "source": [
    "r2 = [r2_score1, r2_score2, r2_score3, r2_score4, r2_score5, r2_score6]\n",
    "r2"
   ]
  },
  {
   "cell_type": "markdown",
   "id": "3ff09092-db89-4f74-bb3f-a1e2ad02fa40",
   "metadata": {},
   "source": [
    "### The above comparison shows using 5 month lag data achieves the best performance."
   ]
  },
  {
   "cell_type": "code",
   "execution_count": null,
   "id": "831e08cf-fa29-4306-8a15-4643164ed796",
   "metadata": {},
   "outputs": [],
   "source": []
  }
 ],
 "metadata": {
  "colab": {
   "collapsed_sections": [],
   "provenance": []
  },
  "kernelspec": {
   "display_name": "Python 3 (ipykernel)",
   "language": "python",
   "name": "python3"
  },
  "language_info": {
   "codemirror_mode": {
    "name": "ipython",
    "version": 3
   },
   "file_extension": ".py",
   "mimetype": "text/x-python",
   "name": "python",
   "nbconvert_exporter": "python",
   "pygments_lexer": "ipython3",
   "version": "3.7.13"
  }
 },
 "nbformat": 4,
 "nbformat_minor": 5
}
