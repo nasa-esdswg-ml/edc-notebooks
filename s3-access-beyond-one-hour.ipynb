{
 "cells": [
  {
   "cell_type": "markdown",
   "id": "32c54dc8",
   "metadata": {},
   "source": [
    "# Demonstration of S3 in-region access to Earthdata Cloud data using refreshing STS keys\n",
    "In this notebook we will demonstrate how you can find cloud-hosted data within EDC and access that data using AWS' S3 API for in-region compute.\n",
    "EDC data is hosted in us-west-2. In order to run this notebook you need the following,\n",
    "- An EDL account (you can gain one at urs.earthdata.nasa.gov)\n",
    "- A notebook server running in us-west-2"
   ]
  },
  {
   "cell_type": "code",
   "execution_count": 9,
   "id": "6dabd06d",
   "metadata": {},
   "outputs": [],
   "source": [
    "from urllib import request, parse\n",
    "from http.cookiejar import CookieJar\n",
    "import getpass\n",
    "import netrc\n",
    "import requests\n",
    "import json\n",
    "import os\n",
    "import boto3\n",
    "\n",
    "from urllib.parse import urlparse"
   ]
  },
  {
   "cell_type": "markdown",
   "id": "46a3b45a",
   "metadata": {},
   "source": [
    "## Registration and authentication\n",
    "\n",
    "In order to access EDC data you need to register with Earthdata Login (EDL) and obtain EDL credentials for your data access.\n",
    "\n",
    "This function below will allow Python scripts to log into the Earthdata Login application programmatically. To avoid being prompted for credentials every time you run and also allow clients such as curl to log in, you can add the following to a .netrc (_netrc on Windows) file in your home directory:\n",
    "\n",
    "machine urs.earthdata.nasa.gov\n",
    "    login <your username>\n",
    "    password <your password>\n",
    "Make sure that this file is only readable by the current user or you will receive an error stating \"netrc access too permissive.\"\n",
    "\n",
    "$ chmod 0600 ~/.netrc"
   ]
  },
  {
   "cell_type": "code",
   "execution_count": 10,
   "id": "0230b1f4",
   "metadata": {},
   "outputs": [],
   "source": [
    "def setup_earthdata_login_auth(endpoint):\n",
    "    \"\"\"\n",
    "    Set up the request library so that it authenticates against the given Earthdata Login\n",
    "    endpoint and is able to track cookies between requests.  This looks in the .netrc file \n",
    "    first and if no credentials are found, it prompts for them.\n",
    "\n",
    "    Valid endpoints include:\n",
    "        uat.urs.earthdata.nasa.gov - Earthdata Login UAT\n",
    "        urs.earthdata.nasa.gov - Earthdata Login production\n",
    "    \"\"\"\n",
    "    try:\n",
    "        username, _, password = netrc.netrc().authenticators(endpoint)\n",
    "    except (FileNotFoundError, TypeError):\n",
    "        # FileNotFound = There's no .netrc file\n",
    "        # TypeError = The endpoint isn't in the netrc file, causing the above to try unpacking None\n",
    "        print('Please provide your Earthdata Login credentials to allow data access')\n",
    "        print('Your credentials will only be passed to %s and will not be exposed in Jupyter' % (endpoint))\n",
    "        username = input('Username:')\n",
    "        password = getpass.getpass()\n",
    "\n",
    "    manager = request.HTTPPasswordMgrWithDefaultRealm()\n",
    "    manager.add_password(None, endpoint, username, password)\n",
    "    auth = request.HTTPBasicAuthHandler(manager)\n",
    "\n",
    "    jar = CookieJar()\n",
    "    processor = request.HTTPCookieProcessor(jar)\n",
    "    opener = request.build_opener(auth, processor)\n",
    "    request.install_opener(opener)"
   ]
  },
  {
   "cell_type": "markdown",
   "id": "e240d626",
   "metadata": {},
   "source": [
    "Let's set up our EDL authentication against the producton environment at urs.earthdata.nasa.gov"
   ]
  },
  {
   "cell_type": "code",
   "execution_count": 11,
   "id": "d69821a4",
   "metadata": {},
   "outputs": [],
   "source": [
    "setup_earthdata_login_auth('urs.earthdata.nasa.gov')"
   ]
  },
  {
   "cell_type": "markdown",
   "id": "fc8a5d87",
   "metadata": {},
   "source": [
    "## Data discovery via the Common Metadata Repository (CMR)\n",
    "### Step 1: Collection/Dataset discovery.\n",
    "We can search for collections of interest in our cloud provider POCLOUD using CMR"
   ]
  },
  {
   "cell_type": "code",
   "execution_count": 12,
   "id": "afbfb19c",
   "metadata": {},
   "outputs": [
    {
     "name": "stdout",
     "output_type": "stream",
     "text": [
      "Unique identifier of collection: C2151536874-POCLOUD\n"
     ]
    }
   ],
   "source": [
    "response = requests.get('https://cmr.earthdata.nasa.gov/search/collections.json', params={'provider': 'POCLOUD'})\n",
    "results = json.loads(response.content)\n",
    "\n",
    "concept_id = results[\"feed\"][\"entry\"][0][\"id\"]\n",
    "print(\"Unique identifier of collection: \" + concept_id)"
   ]
  },
  {
   "cell_type": "markdown",
   "id": "d541e3da",
   "metadata": {},
   "source": [
    "Note that this collection metadata describes several things you need to know about accessing EDC data via S3\n",
    "In order to use EDC S3 we need to know the following\n",
    "- the region the data is housed in\n",
    "- how to obtain AWS STS credentials (ie. the STS credentials endpoint and documentation\n",
    "EDC needs to metric each data access in terms of the user performing the access. This is done by linking your EDL user name to an STS role. The STS credential endpoint does that by asking for your EDL credentials and returning temporay STS credentials that you can use to set up an AWS S3 client."
   ]
  },
  {
   "cell_type": "code",
   "execution_count": 13,
   "id": "4cb211de",
   "metadata": {},
   "outputs": [
    {
     "name": "stdout",
     "output_type": "stream",
     "text": [
      "AWS region: us-west-2\n",
      "AWS STS endpoint: https://archive.podaac.earthdata.nasa.gov/s3credentials\n"
     ]
    }
   ],
   "source": [
    "response = requests.get('https://cmr.earthdata.nasa.gov/search/concepts/' + concept_id + '.umm-json')\n",
    "results = json.loads(response.content)\n",
    "aws_region = results[\"DirectDistributionInformation\"][\"Region\"]\n",
    "print('AWS region: ' + aws_region)\n",
    "sts_endpoint = results[\"DirectDistributionInformation\"][\"S3CredentialsAPIEndpoint\"]\n",
    "print('AWS STS endpoint: ' + sts_endpoint)"
   ]
  },
  {
   "cell_type": "markdown",
   "id": "4d1e3e96",
   "metadata": {},
   "source": [
    "### Step 2: Granule/file discovery.\n",
    "Using the unique identifier for the first collection returned, we can search for granules and obtain one or more S3 urls locating the data"
   ]
  },
  {
   "cell_type": "code",
   "execution_count": 14,
   "id": "33b15f55",
   "metadata": {},
   "outputs": [
    {
     "name": "stdout",
     "output_type": "stream",
     "text": [
      "S3 URL for data: s3://podaac-ops-cumulus-protected/SEAGLIDER_GUAM_2019/sg178_Oct2019_data_L2.nc\n",
      "S3 bucket: podaac-ops-cumulus-protected\n",
      "S3 key: SEAGLIDER_GUAM_2019/sg178_Oct2019_data_L2.nc\n"
     ]
    }
   ],
   "source": [
    "response = requests.get('https://cmr.earthdata.nasa.gov/search/granules.json', params={'concept_id': concept_id})\n",
    "results = json.loads(response.content)\n",
    "\n",
    "links = results[\"feed\"][\"entry\"][0][\"links\"]\n",
    "for link in links:\n",
    "    if link['rel'] == \"http://esipfed.org/ns/fedsearch/1.1/s3#\":\n",
    "        url = link['href']\n",
    "        break;\n",
    "print(\"S3 URL for data: \" + url)\n",
    "o = urlparse(url, allow_fragments=False)\n",
    "\n",
    "bucket = o.netloc\n",
    "\n",
    "key = o.path.lstrip('/')\n",
    "print(\"S3 bucket: \" + bucket)\n",
    "print(\"S3 key: \" + key)"
   ]
  },
  {
   "cell_type": "markdown",
   "id": "526b46e2",
   "metadata": {},
   "source": [
    "## Accessing data\n",
    "Now we have found the location of the data, we need to leverage the S3 API to access it. \n",
    "### Step 1: Obtain AWS STS credentials.\n",
    "EDC requires AWS STS credentials for data access the STS endpoint allows us to use our EDL credentials to obtain them.\n",
    "Our EDL credentials are in our https session so the STS endpoint will recognize that and use them to return us STS credentials."
   ]
  },
  {
   "cell_type": "code",
   "execution_count": 15,
   "id": "57afa80f",
   "metadata": {},
   "outputs": [],
   "source": [
    "response = requests.get(sts_endpoint)\n",
    "creds = json.loads(response.content)"
   ]
  },
  {
   "cell_type": "markdown",
   "id": "0f8e1e3e",
   "metadata": {},
   "source": [
    "### Step 2: Accessing the data via the AWS S3 API\n",
    "\n",
    "Here we use an undocumented function in the botocore library that allows you to auto-refresh your credentials. This will allow you to maintain your session for more than the 1 hour limit.\n",
    "\n",
    "See https://github.com/boto/botocore/blob/e8155d6005a878b86bfdcd2823b41f7e2d6cde08/botocore/credentials.py#L444\n"
   ]
  },
  {
   "cell_type": "code",
   "execution_count": null,
   "id": "8c5f3276",
   "metadata": {},
   "outputs": [
    {
     "name": "stdout",
     "output_type": "stream",
     "text": [
      "You just accessed 5289869 bytes of data in-region via the AWS S3 API at \n",
      "2022-10-18 20:48:45.307086\n",
      "You just accessed 5289869 bytes of data in-region via the AWS S3 API at \n",
      "2022-10-18 20:49:45.420306\n",
      "You just accessed 5289869 bytes of data in-region via the AWS S3 API at \n",
      "2022-10-18 20:50:45.564419\n",
      "You just accessed 5289869 bytes of data in-region via the AWS S3 API at \n",
      "2022-10-18 20:51:45.648102\n",
      "You just accessed 5289869 bytes of data in-region via the AWS S3 API at \n",
      "2022-10-18 20:52:45.816394\n",
      "You just accessed 5289869 bytes of data in-region via the AWS S3 API at \n",
      "2022-10-18 20:53:45.948074\n",
      "You just accessed 5289869 bytes of data in-region via the AWS S3 API at \n",
      "2022-10-18 20:54:46.058142\n",
      "You just accessed 5289869 bytes of data in-region via the AWS S3 API at \n",
      "2022-10-18 20:55:46.190280\n",
      "You just accessed 5289869 bytes of data in-region via the AWS S3 API at \n",
      "2022-10-18 20:56:46.268403\n",
      "You just accessed 5289869 bytes of data in-region via the AWS S3 API at \n",
      "2022-10-18 20:57:46.402255\n",
      "You just accessed 5289869 bytes of data in-region via the AWS S3 API at \n",
      "2022-10-18 20:58:46.532398\n",
      "You just accessed 5289869 bytes of data in-region via the AWS S3 API at \n",
      "2022-10-18 20:59:46.658157\n",
      "You just accessed 5289869 bytes of data in-region via the AWS S3 API at \n",
      "2022-10-18 21:00:46.758142\n",
      "You just accessed 5289869 bytes of data in-region via the AWS S3 API at \n",
      "2022-10-18 21:01:46.874035\n",
      "You just accessed 5289869 bytes of data in-region via the AWS S3 API at \n",
      "2022-10-18 21:02:46.968405\n",
      "You just accessed 5289869 bytes of data in-region via the AWS S3 API at \n",
      "2022-10-18 21:03:47.104311\n",
      "You just accessed 5289869 bytes of data in-region via the AWS S3 API at \n",
      "2022-10-18 21:04:47.257234\n",
      "You just accessed 5289869 bytes of data in-region via the AWS S3 API at \n",
      "2022-10-18 21:05:47.345192\n",
      "You just accessed 5289869 bytes of data in-region via the AWS S3 API at \n",
      "2022-10-18 21:06:47.470884\n",
      "You just accessed 5289869 bytes of data in-region via the AWS S3 API at \n",
      "2022-10-18 21:07:47.578584\n",
      "You just accessed 5289869 bytes of data in-region via the AWS S3 API at \n",
      "2022-10-18 21:08:47.670153\n",
      "You just accessed 5289869 bytes of data in-region via the AWS S3 API at \n",
      "2022-10-18 21:09:47.758151\n",
      "You just accessed 5289869 bytes of data in-region via the AWS S3 API at \n",
      "2022-10-18 21:10:47.845526\n",
      "You just accessed 5289869 bytes of data in-region via the AWS S3 API at \n",
      "2022-10-18 21:11:47.975132\n",
      "You just accessed 5289869 bytes of data in-region via the AWS S3 API at \n",
      "2022-10-18 21:12:48.092411\n",
      "You just accessed 5289869 bytes of data in-region via the AWS S3 API at \n",
      "2022-10-18 21:13:48.213829\n",
      "You just accessed 5289869 bytes of data in-region via the AWS S3 API at \n",
      "2022-10-18 21:14:48.292908\n",
      "You just accessed 5289869 bytes of data in-region via the AWS S3 API at \n",
      "2022-10-18 21:15:48.368407\n",
      "You just accessed 5289869 bytes of data in-region via the AWS S3 API at \n",
      "2022-10-18 21:16:48.476860\n",
      "You just accessed 5289869 bytes of data in-region via the AWS S3 API at \n",
      "2022-10-18 21:17:48.574048\n",
      "You just accessed 5289869 bytes of data in-region via the AWS S3 API at \n",
      "2022-10-18 21:18:48.693292\n",
      "You just accessed 5289869 bytes of data in-region via the AWS S3 API at \n",
      "2022-10-18 21:19:48.836091\n",
      "You just accessed 5289869 bytes of data in-region via the AWS S3 API at \n",
      "2022-10-18 21:20:48.994184\n",
      "You just accessed 5289869 bytes of data in-region via the AWS S3 API at \n",
      "2022-10-18 21:21:49.145987\n",
      "You just accessed 5289869 bytes of data in-region via the AWS S3 API at \n",
      "2022-10-18 21:22:49.276638\n",
      "You just accessed 5289869 bytes of data in-region via the AWS S3 API at \n",
      "2022-10-18 21:23:49.392404\n",
      "You just accessed 5289869 bytes of data in-region via the AWS S3 API at \n",
      "2022-10-18 21:24:49.512412\n",
      "You just accessed 5289869 bytes of data in-region via the AWS S3 API at \n",
      "2022-10-18 21:25:49.665001\n",
      "You just accessed 5289869 bytes of data in-region via the AWS S3 API at \n",
      "2022-10-18 21:26:49.788062\n",
      "You just accessed 5289869 bytes of data in-region via the AWS S3 API at \n",
      "2022-10-18 21:27:49.908955\n",
      "You just accessed 5289869 bytes of data in-region via the AWS S3 API at \n",
      "2022-10-18 21:28:50.035307\n",
      "You just accessed 5289869 bytes of data in-region via the AWS S3 API at \n",
      "2022-10-18 21:29:50.200311\n",
      "You just accessed 5289869 bytes of data in-region via the AWS S3 API at \n",
      "2022-10-18 21:30:50.297802\n",
      "You just accessed 5289869 bytes of data in-region via the AWS S3 API at \n",
      "2022-10-18 21:31:50.428468\n",
      "You just accessed 5289869 bytes of data in-region via the AWS S3 API at \n",
      "2022-10-18 21:32:50.552400\n",
      "You just accessed 5289869 bytes of data in-region via the AWS S3 API at \n",
      "2022-10-18 21:33:50.679873\n",
      "You just accessed 5289869 bytes of data in-region via the AWS S3 API at \n",
      "2022-10-18 21:34:56.176912\n",
      "You just accessed 5289869 bytes of data in-region via the AWS S3 API at \n",
      "2022-10-18 21:35:56.301418\n",
      "You just accessed 5289869 bytes of data in-region via the AWS S3 API at \n",
      "2022-10-18 21:36:56.420402\n",
      "You just accessed 5289869 bytes of data in-region via the AWS S3 API at \n",
      "2022-10-18 21:37:56.488425\n",
      "You just accessed 5289869 bytes of data in-region via the AWS S3 API at \n",
      "2022-10-18 21:38:56.596424\n",
      "You just accessed 5289869 bytes of data in-region via the AWS S3 API at \n",
      "2022-10-18 21:39:56.747179\n",
      "You just accessed 5289869 bytes of data in-region via the AWS S3 API at \n",
      "2022-10-18 21:40:56.872429\n",
      "You just accessed 5289869 bytes of data in-region via the AWS S3 API at \n",
      "2022-10-18 21:41:56.981443\n",
      "You just accessed 5289869 bytes of data in-region via the AWS S3 API at \n",
      "2022-10-18 21:42:57.109190\n",
      "You just accessed 5289869 bytes of data in-region via the AWS S3 API at \n",
      "2022-10-18 21:43:57.259522\n",
      "You just accessed 5289869 bytes of data in-region via the AWS S3 API at \n",
      "2022-10-18 21:44:57.400400\n",
      "You just accessed 5289869 bytes of data in-region via the AWS S3 API at \n",
      "2022-10-18 21:45:57.528415\n",
      "You just accessed 5289869 bytes of data in-region via the AWS S3 API at \n",
      "2022-10-18 21:46:57.647665\n",
      "You just accessed 5289869 bytes of data in-region via the AWS S3 API at \n",
      "2022-10-18 21:47:57.784517\n",
      "You just accessed 5289869 bytes of data in-region via the AWS S3 API at \n",
      "2022-10-18 21:48:57.908404\n",
      "You just accessed 5289869 bytes of data in-region via the AWS S3 API at \n",
      "2022-10-18 21:49:58.040405\n",
      "You just accessed 5289869 bytes of data in-region via the AWS S3 API at \n",
      "2022-10-18 21:50:58.153237\n",
      "You just accessed 5289869 bytes of data in-region via the AWS S3 API at \n",
      "2022-10-18 21:51:58.268419\n",
      "You just accessed 5289869 bytes of data in-region via the AWS S3 API at \n",
      "2022-10-18 21:52:58.376431\n",
      "You just accessed 5289869 bytes of data in-region via the AWS S3 API at \n",
      "2022-10-18 21:53:58.497436\n",
      "You just accessed 5289869 bytes of data in-region via the AWS S3 API at \n",
      "2022-10-18 21:54:58.614145\n",
      "You just accessed 5289869 bytes of data in-region via the AWS S3 API at \n",
      "2022-10-18 21:55:58.732495\n",
      "You just accessed 5289869 bytes of data in-region via the AWS S3 API at \n",
      "2022-10-18 21:56:58.871347\n",
      "You just accessed 5289869 bytes of data in-region via the AWS S3 API at \n",
      "2022-10-18 21:57:58.969881\n",
      "You just accessed 5289869 bytes of data in-region via the AWS S3 API at \n",
      "2022-10-18 21:58:59.104407\n",
      "You just accessed 5289869 bytes of data in-region via the AWS S3 API at \n",
      "2022-10-18 21:59:59.218840\n",
      "You just accessed 5289869 bytes of data in-region via the AWS S3 API at \n",
      "2022-10-18 22:00:59.342286\n",
      "You just accessed 5289869 bytes of data in-region via the AWS S3 API at \n",
      "2022-10-18 22:01:59.420509\n",
      "You just accessed 5289869 bytes of data in-region via the AWS S3 API at \n",
      "2022-10-18 22:02:59.546023\n",
      "You just accessed 5289869 bytes of data in-region via the AWS S3 API at \n",
      "2022-10-18 22:03:59.676404\n",
      "You just accessed 5289869 bytes of data in-region via the AWS S3 API at \n",
      "2022-10-18 22:04:59.811802\n",
      "You just accessed 5289869 bytes of data in-region via the AWS S3 API at \n",
      "2022-10-18 22:05:59.928398\n",
      "You just accessed 5289869 bytes of data in-region via the AWS S3 API at \n",
      "2022-10-18 22:07:00.005309\n",
      "You just accessed 5289869 bytes of data in-region via the AWS S3 API at \n",
      "2022-10-18 22:08:00.136613\n",
      "You just accessed 5289869 bytes of data in-region via the AWS S3 API at \n",
      "2022-10-18 22:09:00.284397\n",
      "You just accessed 5289869 bytes of data in-region via the AWS S3 API at \n",
      "2022-10-18 22:10:00.428771\n",
      "You just accessed 5289869 bytes of data in-region via the AWS S3 API at \n",
      "2022-10-18 22:11:00.680399\n",
      "You just accessed 5289869 bytes of data in-region via the AWS S3 API at \n",
      "2022-10-18 22:12:00.814741\n",
      "You just accessed 5289869 bytes of data in-region via the AWS S3 API at \n",
      "2022-10-18 22:13:01.048060\n",
      "You just accessed 5289869 bytes of data in-region via the AWS S3 API at \n",
      "2022-10-18 22:41:09.820607\n"
     ]
    }
   ],
   "source": [
    "import botocore, datetime\n",
    "\n",
    "def refresh_external_credentials():\n",
    "    response = requests.get(sts_endpoint)\n",
    "    creds = json.loads(response.content)\n",
    "    return {\n",
    "        \"access_key\": creds.get('accessKeyId'),\n",
    "        \"secret_key\": creds.get('secretAccessKey'),\n",
    "        \"token\": creds.get('sessionToken'),\n",
    "        \"expiry_time\": creds.get('expiration')\n",
    "    }\n",
    "  \n",
    "credentials = botocore.credentials.RefreshableCredentials.create_from_metadata(\n",
    "    metadata=refresh_external_credentials(),\n",
    "    refresh_using=refresh_external_credentials,\n",
    "    method=\"sts-assume-role\"\n",
    ")\n",
    "\n",
    "from botocore.session import get_session\n",
    "\n",
    "session = get_session()\n",
    "session._credentials = credentials\n",
    "session.set_config_variable(\"region\", 'us-west-2')\n",
    "autorefresh_session = boto3.session.Session(botocore_session=session)\n",
    "        \n",
    "client = autorefresh_session.client('s3')\n",
    "\n",
    "# Using the same session, get an object repeatedly over a time period greater than the 1 hour token expiration limit.\n",
    "import time\n",
    "\n",
    "for i in range(1, 120):\n",
    "    now = datetime.datetime.now()\n",
    "    response = client.get_object(\n",
    "        Bucket=bucket,\n",
    "        Key=key)\n",
    "    print(\"You just accessed \" + response[\"ResponseMetadata\"][\"HTTPHeaders\"][\"content-length\"] + \" bytes of data in-region via the AWS S3 API at \")\n",
    "    print(now) \n",
    "    time.sleep(60)\n",
    "    "
   ]
  },
  {
   "cell_type": "code",
   "execution_count": null,
   "id": "73f0416c",
   "metadata": {},
   "outputs": [],
   "source": []
  }
 ],
 "metadata": {
  "instance_type": "ml.t3.medium",
  "kernelspec": {
   "display_name": "conda_amazonei_mxnet_p36",
   "language": "python",
   "name": "conda_amazonei_mxnet_p36"
  },
  "language_info": {
   "codemirror_mode": {
    "name": "ipython",
    "version": 3
   },
   "file_extension": ".py",
   "mimetype": "text/x-python",
   "name": "python",
   "nbconvert_exporter": "python",
   "pygments_lexer": "ipython3",
   "version": "3.6.13"
  },
  "vscode": {
   "interpreter": {
    "hash": "aee8b7b246df8f9039afb4144a1f6fd8d2ca17a180786b69acc140d282b71a49"
   }
  }
 },
 "nbformat": 4,
 "nbformat_minor": 5
}
